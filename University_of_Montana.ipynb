{
 "cells": [
  {
   "attachments": {},
   "cell_type": "markdown",
   "metadata": {},
   "source": [
    "# Would you include all suggested variants in the experiment (Connect, Learn, Help, Services)?\n",
    "No. Since the representatives of all interviewed user groups ranked Help -> Services  -> rest, I would focus on these two alternatives in order to reduce the number of categories for the upcoming experiment to compare with the SQ. \n",
    "\n",
    "sophomore:\n",
    "Help, Services, Interact, Connect, Learn\n",
    "junior:\n",
    "Help is the best, then Services too\n",
    "senior:\n",
    " Help, Services, Connect, Interact, Learn"
   ]
  },
  {
   "attachments": {},
   "cell_type": "markdown",
   "metadata": {},
   "source": [
    "# What is the “business value” that performing this experiment would add within the broader strategy of the University?\n",
    "Although (as the heatmap shows) users mostly use the university mainpage and the catalogue buttons (as to be expected on a uni-lib), from an SQ point of view it is hard to assess whether users need more help and don't find it since it is hidden under \"interact\" or Montana simply has competent users. Anyways, the University of Montana could get an opportunity of improving the library's User Experience hence improving the overall satisfaction of users and in the long run better ratings in the future and eventually more students."
   ]
  },
  {
   "attachments": {},
   "cell_type": "markdown",
   "metadata": {},
   "source": [
    "# Which main metric would you choose to measure the success of a variant and perform the experiment on?\n",
    "Main metric would be the CTR of the changed buttons and an assessment if that changed led to a more frequent use."
   ]
  },
  {
   "attachments": {},
   "cell_type": "markdown",
   "metadata": {},
   "source": [
    "# Which additional metrics would you choose to track?\n",
    "The basic addition would be the overall user-number on the library's website. In order to assess whether people were using the changes because they were looking for help/additional informations i would track the follow-up-CTR (links to Reference Services, Instruction Services, Subject Liaisons, Writing Center, About, Staff Directory, Library FAQ, Give to the Library, and Floor Maps)"
   ]
  },
  {
   "attachments": {},
   "cell_type": "markdown",
   "metadata": {},
   "source": [
    "# How would you define the null and the alternative hypotheses?\n",
    "H0: the CTR of changed button equals the SQ\n",
    "H1: the CTR of changed button changes"
   ]
  },
  {
   "attachments": {},
   "cell_type": "markdown",
   "metadata": {},
   "source": [
    "# What threshold for statistical significance would you set?\n",
    "Since the general user seems to navigate the library's website with ease and the UX-Upgrade is easily implemented: alpha = 0.1 would be enough"
   ]
  },
  {
   "attachments": {},
   "cell_type": "markdown",
   "metadata": {},
   "source": [
    "# What is the minimum detectable effect (the smallest improvement you would care about) that you expect to detect?\n",
    "All improvements that fall short of reaching the modest significance level set before would be \"ignored\"."
   ]
  },
  {
   "attachments": {},
   "cell_type": "markdown",
   "metadata": {},
   "source": [
    "# Do you think this experiment would require a software engineering team to develop a custom platform, or could it be developed with external tools such as Google Optimize?\n",
    "Since it has only to be made sure, that the experiment is strictly randomized and all we care about is a changed button and no further changes will be applied, the task at hand should be easily implemented by the IT-team using google optimize."
   ]
  },
  {
   "cell_type": "code",
   "execution_count": 1,
   "metadata": {},
   "outputs": [],
   "source": [
    "import pandas as pd\n",
    "import numpy as np\n",
    "import seaborn as sns\n",
    "import matplotlib.pyplot as plt\n",
    "%matplotlib inline\n",
    "\n",
    "filepath_1 = r\"C:\\Users\\danie\\Desktop\\WBS.DataScience_Bootcamp\\Week_5_AB_Testing\\University of Montana\\Connect.csv\"\n",
    "filepath_2 = r\"C:\\Users\\danie\\Desktop\\WBS.DataScience_Bootcamp\\Week_5_AB_Testing\\University of Montana\\Services.csv\"\n",
    "filepath_3 = r\"C:\\Users\\danie\\Desktop\\WBS.DataScience_Bootcamp\\Week_5_AB_Testing\\University of Montana\\Learn.csv\"\n",
    "filepath_4 = r\"C:\\Users\\danie\\Desktop\\WBS.DataScience_Bootcamp\\Week_5_AB_Testing\\University of Montana\\Interact.csv\"\n",
    "filepath_5 = r\"C:\\Users\\danie\\Desktop\\WBS.DataScience_Bootcamp\\Week_5_AB_Testing\\University of Montana\\Help.csv\"\n",
    "\n",
    "connect = pd.read_csv(filepath_1, sep = \",\")\n",
    "services = pd.read_csv(filepath_2, sep = \",\")\n",
    "learn = pd.read_csv(filepath_3, sep = \",\")\n",
    "interact = pd.read_csv(filepath_4, sep = \",\")\n",
    "help = pd.read_csv(filepath_5, sep = \",\")\n",
    "\n",
    "pd.set_option('display.float_format', lambda x: '%.2f' % x)\n",
    "pd.set_option('display.max_rows', 1000)\n",
    "pd.set_option('max_colwidth', 400)"
   ]
  },
  {
   "attachments": {},
   "cell_type": "markdown",
   "metadata": {},
   "source": [
    "## actual metrics\n",
    "\n",
    "    Click-through rate (CTR) for the homepage. Amount of clicks on the button divided by the total visits to the page. Selected as a measure of the initial ability of the category title to attract users.\n",
    "    Drop-off rate for the category pages. Percentage of visitors who leave the site from a given page, selected as a measure of the ability of the category page to meet user expectations.\n",
    "    Homepage-return rate for the category pages. Percentage of users who navigated from the library homepage to the category page, then returned back to the homepage. This sequence of actions provides clues as to whether a user discovered the desired option on the category page; if not, the user would likely return to the homepage to continue navigation. Homepage-return rate was therefore selected as a measure of the ability of the category page to meet user expectations.\n"
   ]
  },
  {
   "cell_type": "code",
   "execution_count": 2,
   "metadata": {},
   "outputs": [
    {
     "name": "stdout",
     "output_type": "stream",
     "text": [
      "<class 'pandas.core.frame.DataFrame'>\n",
      "RangeIndex: 58 entries, 0 to 57\n",
      "Data columns (total 6 columns):\n",
      " #   Column                Non-Null Count  Dtype \n",
      "---  ------                --------------  ----- \n",
      " 0   Element ID            58 non-null     int64 \n",
      " 1   Tag name              58 non-null     object\n",
      " 2   Name                  58 non-null     object\n",
      " 3   No. clicks            58 non-null     int64 \n",
      " 4   Visible?              58 non-null     bool  \n",
      " 5   Snapshot information  2 non-null      object\n",
      "dtypes: bool(1), int64(2), object(3)\n",
      "memory usage: 2.4+ KB\n"
     ]
    }
   ],
   "source": [
    "c = connect.copy()\n",
    "c.info()"
   ]
  },
  {
   "cell_type": "code",
   "execution_count": 3,
   "metadata": {},
   "outputs": [
    {
     "data": {
      "text/plain": [
       "1155"
      ]
     },
     "execution_count": 3,
     "metadata": {},
     "output_type": "execute_result"
    }
   ],
   "source": [
    "c[\"Snapshot information\"]\n",
    "\n",
    "# 2742 visits, 1587 clicks --> dropoff = \n",
    "2742-1587"
   ]
  },
  {
   "cell_type": "code",
   "execution_count": 4,
   "metadata": {},
   "outputs": [],
   "source": [
    "c_metrics = c[(c.Name == \"CONNECT\") | (c.Name == \"Montana State University Libraries - Home\")].reset_index()\n",
    "c_metrics.drop(\"Element ID\", axis=1, inplace=True)\n",
    "c_metrics.drop(\"Tag name\", axis=1, inplace=True)\n",
    "c_metrics.drop(\"Visible?\", axis=1, inplace=True)\n",
    "c_metrics.drop(\"Snapshot information\", axis=1, inplace=True)"
   ]
  },
  {
   "cell_type": "code",
   "execution_count": 5,
   "metadata": {},
   "outputs": [],
   "source": [
    "c_metrics.drop(\"index\", axis=1, inplace=True)"
   ]
  },
  {
   "cell_type": "code",
   "execution_count": 6,
   "metadata": {},
   "outputs": [],
   "source": [
    "c_metrics.iloc[0,0] = \"Home\""
   ]
  },
  {
   "cell_type": "code",
   "execution_count": 7,
   "metadata": {},
   "outputs": [
    {
     "data": {
      "text/html": [
       "<div>\n",
       "<style scoped>\n",
       "    .dataframe tbody tr th:only-of-type {\n",
       "        vertical-align: middle;\n",
       "    }\n",
       "\n",
       "    .dataframe tbody tr th {\n",
       "        vertical-align: top;\n",
       "    }\n",
       "\n",
       "    .dataframe thead th {\n",
       "        text-align: right;\n",
       "    }\n",
       "</style>\n",
       "<table border=\"1\" class=\"dataframe\">\n",
       "  <thead>\n",
       "    <tr style=\"text-align: right;\">\n",
       "      <th></th>\n",
       "      <th>Name</th>\n",
       "      <th>No. clicks</th>\n",
       "    </tr>\n",
       "  </thead>\n",
       "  <tbody>\n",
       "    <tr>\n",
       "      <th>0</th>\n",
       "      <td>Home</td>\n",
       "      <td>83</td>\n",
       "    </tr>\n",
       "    <tr>\n",
       "      <th>1</th>\n",
       "      <td>CONNECT</td>\n",
       "      <td>53</td>\n",
       "    </tr>\n",
       "    <tr>\n",
       "      <th>2</th>\n",
       "      <td>dropoff</td>\n",
       "      <td>1155</td>\n",
       "    </tr>\n",
       "    <tr>\n",
       "      <th>3</th>\n",
       "      <td>total</td>\n",
       "      <td>2742</td>\n",
       "    </tr>\n",
       "  </tbody>\n",
       "</table>\n",
       "</div>"
      ],
      "text/plain": [
       "      Name  No. clicks\n",
       "0     Home          83\n",
       "1  CONNECT          53\n",
       "2  dropoff        1155\n",
       "3    total        2742"
      ]
     },
     "execution_count": 7,
     "metadata": {},
     "output_type": "execute_result"
    }
   ],
   "source": [
    "c_metrics.loc[2] = [\"dropoff\", 1155]\n",
    "c_metrics.loc[3] = [\"total\", 2742]\n",
    "c_metrics"
   ]
  },
  {
   "cell_type": "code",
   "execution_count": 8,
   "metadata": {},
   "outputs": [],
   "source": [
    "s = services.copy()"
   ]
  },
  {
   "cell_type": "code",
   "execution_count": 9,
   "metadata": {},
   "outputs": [
    {
     "data": {
      "text/plain": [
       "716"
      ]
     },
     "execution_count": 9,
     "metadata": {},
     "output_type": "execute_result"
    }
   ],
   "source": [
    "s[\"Snapshot information\"]\n",
    "# 2064 visits, 1348 clicks\n",
    "2064 - 1348"
   ]
  },
  {
   "cell_type": "code",
   "execution_count": 10,
   "metadata": {},
   "outputs": [],
   "source": [
    "s_metrics = s[(s.Name == \"SERVICES\") | (s.Name == \"Montana State University - Home\")].reset_index()\n",
    "s_metrics.drop(\"Element ID\", axis=1, inplace=True)\n",
    "s_metrics.drop(\"Tag name\", axis=1, inplace=True)\n",
    "s_metrics.drop(\"Visible?\", axis=1, inplace=True)\n",
    "s_metrics.drop(\"Snapshot information\", axis=1, inplace=True)"
   ]
  },
  {
   "cell_type": "code",
   "execution_count": 11,
   "metadata": {},
   "outputs": [],
   "source": [
    "s_metrics.drop(\"index\", axis=1, inplace=True)"
   ]
  },
  {
   "cell_type": "code",
   "execution_count": 12,
   "metadata": {},
   "outputs": [
    {
     "data": {
      "text/html": [
       "<div>\n",
       "<style scoped>\n",
       "    .dataframe tbody tr th:only-of-type {\n",
       "        vertical-align: middle;\n",
       "    }\n",
       "\n",
       "    .dataframe tbody tr th {\n",
       "        vertical-align: top;\n",
       "    }\n",
       "\n",
       "    .dataframe thead th {\n",
       "        text-align: right;\n",
       "    }\n",
       "</style>\n",
       "<table border=\"1\" class=\"dataframe\">\n",
       "  <thead>\n",
       "    <tr style=\"text-align: right;\">\n",
       "      <th></th>\n",
       "      <th>Name</th>\n",
       "      <th>No. clicks</th>\n",
       "    </tr>\n",
       "  </thead>\n",
       "  <tbody>\n",
       "    <tr>\n",
       "      <th>0</th>\n",
       "      <td>Home</td>\n",
       "      <td>49</td>\n",
       "    </tr>\n",
       "    <tr>\n",
       "      <th>1</th>\n",
       "      <td>SERVICES</td>\n",
       "      <td>45</td>\n",
       "    </tr>\n",
       "    <tr>\n",
       "      <th>2</th>\n",
       "      <td>dropoff</td>\n",
       "      <td>716</td>\n",
       "    </tr>\n",
       "    <tr>\n",
       "      <th>3</th>\n",
       "      <td>total</td>\n",
       "      <td>2064</td>\n",
       "    </tr>\n",
       "  </tbody>\n",
       "</table>\n",
       "</div>"
      ],
      "text/plain": [
       "       Name  No. clicks\n",
       "0      Home          49\n",
       "1  SERVICES          45\n",
       "2   dropoff         716\n",
       "3     total        2064"
      ]
     },
     "execution_count": 12,
     "metadata": {},
     "output_type": "execute_result"
    }
   ],
   "source": [
    "s_metrics.iloc[0,0] = \"Home\"\n",
    "s_metrics.loc[2] = [\"dropoff\", 716]\n",
    "s_metrics.loc[3] = [\"total\", 2064]\n",
    "s_metrics"
   ]
  },
  {
   "cell_type": "code",
   "execution_count": 13,
   "metadata": {},
   "outputs": [],
   "source": [
    "l = learn.copy()"
   ]
  },
  {
   "cell_type": "code",
   "execution_count": 14,
   "metadata": {},
   "outputs": [
    {
     "data": {
      "text/plain": [
       "1095"
      ]
     },
     "execution_count": 14,
     "metadata": {},
     "output_type": "execute_result"
    }
   ],
   "source": [
    "l[\"Snapshot information\"]\n",
    "#2747 visits 1652 clicks\n",
    "2747-1652\n",
    "# dropoff = 1095"
   ]
  },
  {
   "cell_type": "code",
   "execution_count": 15,
   "metadata": {},
   "outputs": [],
   "source": [
    "l_metrics = l[(l.Name == \"LEARN\") | (l.Name == \"Montana State University - Home\")].reset_index()\n",
    "l_metrics.drop(\"Element ID\", axis=1, inplace=True)\n",
    "l_metrics.drop(\"Tag name\", axis=1, inplace=True)\n",
    "l_metrics.drop(\"Visible?\", axis=1, inplace=True)\n",
    "l_metrics.drop(\"Snapshot information\", axis=1, inplace=True)"
   ]
  },
  {
   "cell_type": "code",
   "execution_count": 16,
   "metadata": {},
   "outputs": [],
   "source": [
    "l_metrics.drop(\"index\", axis=1, inplace=True)\n"
   ]
  },
  {
   "cell_type": "code",
   "execution_count": 17,
   "metadata": {},
   "outputs": [
    {
     "data": {
      "text/html": [
       "<div>\n",
       "<style scoped>\n",
       "    .dataframe tbody tr th:only-of-type {\n",
       "        vertical-align: middle;\n",
       "    }\n",
       "\n",
       "    .dataframe tbody tr th {\n",
       "        vertical-align: top;\n",
       "    }\n",
       "\n",
       "    .dataframe thead th {\n",
       "        text-align: right;\n",
       "    }\n",
       "</style>\n",
       "<table border=\"1\" class=\"dataframe\">\n",
       "  <thead>\n",
       "    <tr style=\"text-align: right;\">\n",
       "      <th></th>\n",
       "      <th>Name</th>\n",
       "      <th>No. clicks</th>\n",
       "    </tr>\n",
       "  </thead>\n",
       "  <tbody>\n",
       "    <tr>\n",
       "      <th>0</th>\n",
       "      <td>Home</td>\n",
       "      <td>83</td>\n",
       "    </tr>\n",
       "    <tr>\n",
       "      <th>1</th>\n",
       "      <td>LEARN</td>\n",
       "      <td>21</td>\n",
       "    </tr>\n",
       "    <tr>\n",
       "      <th>2</th>\n",
       "      <td>dropoff</td>\n",
       "      <td>1095</td>\n",
       "    </tr>\n",
       "    <tr>\n",
       "      <th>3</th>\n",
       "      <td>total</td>\n",
       "      <td>2747</td>\n",
       "    </tr>\n",
       "  </tbody>\n",
       "</table>\n",
       "</div>"
      ],
      "text/plain": [
       "      Name  No. clicks\n",
       "0     Home          83\n",
       "1    LEARN          21\n",
       "2  dropoff        1095\n",
       "3    total        2747"
      ]
     },
     "execution_count": 17,
     "metadata": {},
     "output_type": "execute_result"
    }
   ],
   "source": [
    "l_metrics.iloc[0,0] = \"Home\"\n",
    "l_metrics.loc[2] = [\"dropoff\", 1095]\n",
    "l_metrics.loc[3] = [\"total\", 2747]\n",
    "l_metrics"
   ]
  },
  {
   "cell_type": "code",
   "execution_count": 18,
   "metadata": {},
   "outputs": [
    {
     "data": {
      "text/plain": [
       "6569"
      ]
     },
     "execution_count": 18,
     "metadata": {},
     "output_type": "execute_result"
    }
   ],
   "source": [
    "i = interact.copy()\n",
    "i[\"Snapshot information\"]\n",
    "#10283 visits, 3714 clicks\n",
    "10283 - 3714\n",
    "#6569 dropoff\n"
   ]
  },
  {
   "cell_type": "code",
   "execution_count": 19,
   "metadata": {},
   "outputs": [],
   "source": [
    "i_metrics = i[(i.Name == \"INTERACT\") | (i.Name == \"Montana State University - Home\")].reset_index()\n",
    "i_metrics.drop(\"Element ID\", axis=1, inplace=True)\n",
    "i_metrics.drop(\"Tag name\", axis=1, inplace=True)\n",
    "i_metrics.drop(\"Visible?\", axis=1, inplace=True)\n",
    "i_metrics.drop(\"Snapshot information\", axis=1, inplace=True)"
   ]
  },
  {
   "cell_type": "code",
   "execution_count": 20,
   "metadata": {},
   "outputs": [],
   "source": [
    "i_metrics.drop(\"index\", axis=1, inplace=True)\n"
   ]
  },
  {
   "cell_type": "code",
   "execution_count": 21,
   "metadata": {},
   "outputs": [
    {
     "data": {
      "text/html": [
       "<div>\n",
       "<style scoped>\n",
       "    .dataframe tbody tr th:only-of-type {\n",
       "        vertical-align: middle;\n",
       "    }\n",
       "\n",
       "    .dataframe tbody tr th {\n",
       "        vertical-align: top;\n",
       "    }\n",
       "\n",
       "    .dataframe thead th {\n",
       "        text-align: right;\n",
       "    }\n",
       "</style>\n",
       "<table border=\"1\" class=\"dataframe\">\n",
       "  <thead>\n",
       "    <tr style=\"text-align: right;\">\n",
       "      <th></th>\n",
       "      <th>Name</th>\n",
       "      <th>No. clicks</th>\n",
       "    </tr>\n",
       "  </thead>\n",
       "  <tbody>\n",
       "    <tr>\n",
       "      <th>0</th>\n",
       "      <td>Home</td>\n",
       "      <td>1291</td>\n",
       "    </tr>\n",
       "    <tr>\n",
       "      <th>1</th>\n",
       "      <td>INTERACT</td>\n",
       "      <td>42</td>\n",
       "    </tr>\n",
       "    <tr>\n",
       "      <th>2</th>\n",
       "      <td>dropoff</td>\n",
       "      <td>6569</td>\n",
       "    </tr>\n",
       "    <tr>\n",
       "      <th>3</th>\n",
       "      <td>total</td>\n",
       "      <td>10283</td>\n",
       "    </tr>\n",
       "  </tbody>\n",
       "</table>\n",
       "</div>"
      ],
      "text/plain": [
       "       Name  No. clicks\n",
       "0      Home        1291\n",
       "1  INTERACT          42\n",
       "2   dropoff        6569\n",
       "3     total       10283"
      ]
     },
     "execution_count": 21,
     "metadata": {},
     "output_type": "execute_result"
    }
   ],
   "source": [
    "i_metrics.iloc[0,0] = \"Home\"\n",
    "i_metrics.loc[2] = [\"dropoff\", 6569]\n",
    "i_metrics.loc[3] = [\"total\", 10283]\n",
    "i_metrics"
   ]
  },
  {
   "cell_type": "code",
   "execution_count": 22,
   "metadata": {},
   "outputs": [
    {
     "data": {
      "text/plain": [
       "1463"
      ]
     },
     "execution_count": 22,
     "metadata": {},
     "output_type": "execute_result"
    }
   ],
   "source": [
    "h = help.copy()\n",
    "#h[\"Snapshot information\"]\n",
    "#3180 visits, 1717 clicks\n",
    "3180-1717\n",
    "#dropoff: 1463"
   ]
  },
  {
   "cell_type": "code",
   "execution_count": 23,
   "metadata": {},
   "outputs": [
    {
     "data": {
      "text/plain": [
       "0              Homepage Version 4 - Help   •   http://www.lib.montana.edu/index4.php\n",
       "1     created 5-29-2013   •   20 days 4 hours 59 mins   •   3180 visits, 1717 clicks\n",
       "2                                                                                NaN\n",
       "3                                                                                NaN\n",
       "4                                                                                NaN\n",
       "5                                                                                NaN\n",
       "6                                                                                NaN\n",
       "7                                                                                NaN\n",
       "8                                                                                NaN\n",
       "9                                                                                NaN\n",
       "10                                                                               NaN\n",
       "11                                                                               NaN\n",
       "12                                                                               NaN\n",
       "13                                                                               NaN\n",
       "14                                                                               NaN\n",
       "15                                                                               NaN\n",
       "16                                                                               NaN\n",
       "17                                                                               NaN\n",
       "18                                                                               NaN\n",
       "19                                                                               NaN\n",
       "20                                                                               NaN\n",
       "21                                                                               NaN\n",
       "22                                                                               NaN\n",
       "23                                                                               NaN\n",
       "24                                                                               NaN\n",
       "25                                                                               NaN\n",
       "26                                                                               NaN\n",
       "27                                                                               NaN\n",
       "28                                                                               NaN\n",
       "29                                                                               NaN\n",
       "30                                                                               NaN\n",
       "31                                                                               NaN\n",
       "32                                                                               NaN\n",
       "33                                                                               NaN\n",
       "34                                                                               NaN\n",
       "35                                                                               NaN\n",
       "36                                                                               NaN\n",
       "37                                                                               NaN\n",
       "38                                                                               NaN\n",
       "39                                                                               NaN\n",
       "40                                                                               NaN\n",
       "41                                                                               NaN\n",
       "42                                                                               NaN\n",
       "43                                                                               NaN\n",
       "44                                                                               NaN\n",
       "45                                                                               NaN\n",
       "46                                                                               NaN\n",
       "47                                                                               NaN\n",
       "48                                                                               NaN\n",
       "49                                                                               NaN\n",
       "50                                                                               NaN\n",
       "51                                                                               NaN\n",
       "52                                                                               NaN\n",
       "53                                                                               NaN\n",
       "54                                                                               NaN\n",
       "55                                                                               NaN\n",
       "56                                                                               NaN\n",
       "Name: Snapshot information, dtype: object"
      ]
     },
     "execution_count": 23,
     "metadata": {},
     "output_type": "execute_result"
    }
   ],
   "source": [
    "h[\"Snapshot information\"]"
   ]
  },
  {
   "cell_type": "code",
   "execution_count": 24,
   "metadata": {},
   "outputs": [
    {
     "data": {
      "text/html": [
       "<div>\n",
       "<style scoped>\n",
       "    .dataframe tbody tr th:only-of-type {\n",
       "        vertical-align: middle;\n",
       "    }\n",
       "\n",
       "    .dataframe tbody tr th {\n",
       "        vertical-align: top;\n",
       "    }\n",
       "\n",
       "    .dataframe thead th {\n",
       "        text-align: right;\n",
       "    }\n",
       "</style>\n",
       "<table border=\"1\" class=\"dataframe\">\n",
       "  <thead>\n",
       "    <tr style=\"text-align: right;\">\n",
       "      <th></th>\n",
       "      <th>No. clicks</th>\n",
       "    </tr>\n",
       "    <tr>\n",
       "      <th>Name</th>\n",
       "      <th></th>\n",
       "    </tr>\n",
       "  </thead>\n",
       "  <tbody>\n",
       "    <tr>\n",
       "      <th>FIND</th>\n",
       "      <td>631</td>\n",
       "    </tr>\n",
       "    <tr>\n",
       "      <th>s.q</th>\n",
       "      <td>364</td>\n",
       "    </tr>\n",
       "    <tr>\n",
       "      <th>lib.montana.edu/find/</th>\n",
       "      <td>139</td>\n",
       "    </tr>\n",
       "    <tr>\n",
       "      <th>Montana State University - Home</th>\n",
       "      <td>122</td>\n",
       "    </tr>\n",
       "    <tr>\n",
       "      <th>REQUEST</th>\n",
       "      <td>72</td>\n",
       "    </tr>\n",
       "    <tr>\n",
       "      <th>Hours</th>\n",
       "      <td>68</td>\n",
       "    </tr>\n",
       "    <tr>\n",
       "      <th>Search</th>\n",
       "      <td>64</td>\n",
       "    </tr>\n",
       "    <tr>\n",
       "      <th>HELP</th>\n",
       "      <td>38</td>\n",
       "    </tr>\n",
       "    <tr>\n",
       "      <th>News</th>\n",
       "      <td>27</td>\n",
       "    </tr>\n",
       "    <tr>\n",
       "      <th>Advanced Search</th>\n",
       "      <td>20</td>\n",
       "    </tr>\n",
       "    <tr>\n",
       "      <th>Contact Us</th>\n",
       "      <td>17</td>\n",
       "    </tr>\n",
       "    <tr>\n",
       "      <th>Ask A Librarian</th>\n",
       "      <td>15</td>\n",
       "    </tr>\n",
       "    <tr>\n",
       "      <th>lib.montana.edu/request/</th>\n",
       "      <td>15</td>\n",
       "    </tr>\n",
       "    <tr>\n",
       "      <th>slideshow-right</th>\n",
       "      <td>14</td>\n",
       "    </tr>\n",
       "    <tr>\n",
       "      <th>nav-item</th>\n",
       "      <td>11</td>\n",
       "    </tr>\n",
       "    <tr>\n",
       "      <th>Twitter</th>\n",
       "      <td>11</td>\n",
       "    </tr>\n",
       "    <tr>\n",
       "      <th>nav-item-dot</th>\n",
       "      <td>11</td>\n",
       "    </tr>\n",
       "    <tr>\n",
       "      <th>Tip of the Week: Submit a Request for the Library to Pu</th>\n",
       "      <td>8</td>\n",
       "    </tr>\n",
       "    <tr>\n",
       "      <th>slideshow-left</th>\n",
       "      <td>8</td>\n",
       "    </tr>\n",
       "    <tr>\n",
       "      <th>lib.montana.edu/interact/</th>\n",
       "      <td>7</td>\n",
       "    </tr>\n",
       "    <tr>\n",
       "      <th>6/17 Library Workshop: EndNote Web Basics</th>\n",
       "      <td>6</td>\n",
       "    </tr>\n",
       "    <tr>\n",
       "      <th>About MSU Library</th>\n",
       "      <td>6</td>\n",
       "    </tr>\n",
       "    <tr>\n",
       "      <th>Find research materials, including articles, books, databases, journals, and course reserves</th>\n",
       "      <td>4</td>\n",
       "    </tr>\n",
       "    <tr>\n",
       "      <th>Search Advanced Search FIND Find research materials, including articles, books, databases, journals,</th>\n",
       "      <td>4</td>\n",
       "    </tr>\n",
       "    <tr>\n",
       "      <th>Explore the world, explore the past Science &amp; Natural History Filmmaking Archive MSU School of Film</th>\n",
       "      <td>4</td>\n",
       "    </tr>\n",
       "    <tr>\n",
       "      <th>Site Index &amp; Site Search</th>\n",
       "      <td>3</td>\n",
       "    </tr>\n",
       "    <tr>\n",
       "      <th>logo-ikd</th>\n",
       "      <td>3</td>\n",
       "    </tr>\n",
       "    <tr>\n",
       "      <th>.</th>\n",
       "      <td>3</td>\n",
       "    </tr>\n",
       "    <tr>\n",
       "      <th>logo</th>\n",
       "      <td>2</td>\n",
       "    </tr>\n",
       "    <tr>\n",
       "      <th>Montana State University Historical Photographs</th>\n",
       "      <td>2</td>\n",
       "    </tr>\n",
       "    <tr>\n",
       "      <th>Indian Peoples of the Northern Great Plains</th>\n",
       "      <td>2</td>\n",
       "    </tr>\n",
       "    <tr>\n",
       "      <th>6/17 Library Workshop: Zotero Basics</th>\n",
       "      <td>2</td>\n",
       "    </tr>\n",
       "    <tr>\n",
       "      <th>s3.amazonaws.com/z90/d7563d332436cc96671be5ed9979147fx.png</th>\n",
       "      <td>1</td>\n",
       "    </tr>\n",
       "    <tr>\n",
       "      <th>triangle-l</th>\n",
       "      <td>1</td>\n",
       "    </tr>\n",
       "    <tr>\n",
       "      <th>montana.summon.serialssolutions.com/advanced/</th>\n",
       "      <td>1</td>\n",
       "    </tr>\n",
       "    <tr>\n",
       "      <th>Request resources and services, including group study rooms, laptops, documents, and books</th>\n",
       "      <td>1</td>\n",
       "    </tr>\n",
       "    <tr>\n",
       "      <th>label for catsearch</th>\n",
       "      <td>1</td>\n",
       "    </tr>\n",
       "    <tr>\n",
       "      <th>YouTube</th>\n",
       "      <td>1</td>\n",
       "    </tr>\n",
       "    <tr>\n",
       "      <th>Science &amp; Natural History Filmmaking Archive</th>\n",
       "      <td>1</td>\n",
       "    </tr>\n",
       "    <tr>\n",
       "      <th>Privacy Policy</th>\n",
       "      <td>1</td>\n",
       "    </tr>\n",
       "    <tr>\n",
       "      <th>News 6/17 Library Workshop: Zotero Basics 6/17 Library Workshop: EndNote Web Basics Tip of the Week:</th>\n",
       "      <td>1</td>\n",
       "    </tr>\n",
       "    <tr>\n",
       "      <th>New Database: Access World News</th>\n",
       "      <td>1</td>\n",
       "    </tr>\n",
       "    <tr>\n",
       "      <th>Montana State University in Bozeman</th>\n",
       "      <td>1</td>\n",
       "    </tr>\n",
       "    <tr>\n",
       "      <th>Mobile Site</th>\n",
       "      <td>1</td>\n",
       "    </tr>\n",
       "    <tr>\n",
       "      <th>Meet with a librarian for help with your research topic</th>\n",
       "      <td>1</td>\n",
       "    </tr>\n",
       "    <tr>\n",
       "      <th>© MSU About MSU Library Accessibility Contact Us Privacy Policy Mobile Site Help Site Index &amp; Site S</th>\n",
       "      <td>1</td>\n",
       "    </tr>\n",
       "  </tbody>\n",
       "</table>\n",
       "</div>"
      ],
      "text/plain": [
       "                                                                                                      No. clicks\n",
       "Name                                                                                                            \n",
       "FIND                                                                                                         631\n",
       "s.q                                                                                                          364\n",
       "lib.montana.edu/find/                                                                                        139\n",
       "Montana State University - Home                                                                              122\n",
       "REQUEST                                                                                                       72\n",
       "Hours                                                                                                         68\n",
       "Search                                                                                                        64\n",
       "HELP                                                                                                          38\n",
       "News                                                                                                          27\n",
       "Advanced Search                                                                                               20\n",
       "Contact Us                                                                                                    17\n",
       "Ask A Librarian                                                                                               15\n",
       "lib.montana.edu/request/                                                                                      15\n",
       "slideshow-right                                                                                               14\n",
       "nav-item                                                                                                      11\n",
       "Twitter                                                                                                       11\n",
       "nav-item-dot                                                                                                  11\n",
       "Tip of the Week: Submit a Request for the Library to Pu                                                        8\n",
       "slideshow-left                                                                                                 8\n",
       "lib.montana.edu/interact/                                                                                      7\n",
       "6/17 Library Workshop: EndNote Web Basics                                                                      6\n",
       "About MSU Library                                                                                              6\n",
       "Find research materials, including articles, books, databases, journals, and course reserves                   4\n",
       "Search Advanced Search FIND Find research materials, including articles, books, databases, journals,           4\n",
       "Explore the world, explore the past Science & Natural History Filmmaking Archive MSU School of Film            4\n",
       "Site Index & Site Search                                                                                       3\n",
       "logo-ikd                                                                                                       3\n",
       ".                                                                                                              3\n",
       "logo                                                                                                           2\n",
       "Montana State University Historical Photographs                                                                2\n",
       "Indian Peoples of the Northern Great Plains                                                                    2\n",
       "6/17 Library Workshop: Zotero Basics                                                                           2\n",
       "s3.amazonaws.com/z90/d7563d332436cc96671be5ed9979147fx.png                                                     1\n",
       "triangle-l                                                                                                     1\n",
       "montana.summon.serialssolutions.com/advanced/                                                                  1\n",
       "Request resources and services, including group study rooms, laptops, documents, and books                     1\n",
       "label for catsearch                                                                                            1\n",
       "YouTube                                                                                                        1\n",
       "Science & Natural History Filmmaking Archive                                                                   1\n",
       "Privacy Policy                                                                                                 1\n",
       "News 6/17 Library Workshop: Zotero Basics 6/17 Library Workshop: EndNote Web Basics Tip of the Week:           1\n",
       "New Database: Access World News                                                                                1\n",
       "Montana State University in Bozeman                                                                            1\n",
       "Mobile Site                                                                                                    1\n",
       "Meet with a librarian for help with your research topic                                                        1\n",
       "© MSU About MSU Library Accessibility Contact Us Privacy Policy Mobile Site Help Site Index & Site S           1"
      ]
     },
     "execution_count": 24,
     "metadata": {},
     "output_type": "execute_result"
    }
   ],
   "source": [
    "h.groupby(\"Name\").agg({\"No. clicks\": \"sum\"}).sort_values(\"No. clicks\", ascending=False)"
   ]
  },
  {
   "cell_type": "code",
   "execution_count": 25,
   "metadata": {},
   "outputs": [],
   "source": [
    "h_metrics = h[(h.Name == \"HELP\") | (h.Name == \"Montana State University - Home\")].reset_index()\n",
    "h_metrics.drop(\"Element ID\", axis=1, inplace=True)\n",
    "h_metrics.drop(\"Tag name\", axis=1, inplace=True)\n",
    "h_metrics.drop(\"Visible?\", axis=1, inplace=True)\n",
    "h_metrics.drop(\"Snapshot information\", axis=1, inplace=True)"
   ]
  },
  {
   "cell_type": "code",
   "execution_count": 26,
   "metadata": {},
   "outputs": [],
   "source": [
    "h_metrics.drop(\"index\", axis=1, inplace=True)"
   ]
  },
  {
   "cell_type": "code",
   "execution_count": 27,
   "metadata": {},
   "outputs": [
    {
     "data": {
      "text/html": [
       "<div>\n",
       "<style scoped>\n",
       "    .dataframe tbody tr th:only-of-type {\n",
       "        vertical-align: middle;\n",
       "    }\n",
       "\n",
       "    .dataframe tbody tr th {\n",
       "        vertical-align: top;\n",
       "    }\n",
       "\n",
       "    .dataframe thead th {\n",
       "        text-align: right;\n",
       "    }\n",
       "</style>\n",
       "<table border=\"1\" class=\"dataframe\">\n",
       "  <thead>\n",
       "    <tr style=\"text-align: right;\">\n",
       "      <th></th>\n",
       "      <th>Name</th>\n",
       "      <th>No. clicks</th>\n",
       "    </tr>\n",
       "  </thead>\n",
       "  <tbody>\n",
       "    <tr>\n",
       "      <th>0</th>\n",
       "      <td>Home</td>\n",
       "      <td>122</td>\n",
       "    </tr>\n",
       "    <tr>\n",
       "      <th>1</th>\n",
       "      <td>HELP</td>\n",
       "      <td>38</td>\n",
       "    </tr>\n",
       "    <tr>\n",
       "      <th>2</th>\n",
       "      <td>dropoff</td>\n",
       "      <td>1463</td>\n",
       "    </tr>\n",
       "    <tr>\n",
       "      <th>3</th>\n",
       "      <td>total</td>\n",
       "      <td>3180</td>\n",
       "    </tr>\n",
       "  </tbody>\n",
       "</table>\n",
       "</div>"
      ],
      "text/plain": [
       "      Name  No. clicks\n",
       "0     Home         122\n",
       "1     HELP          38\n",
       "2  dropoff        1463\n",
       "3    total        3180"
      ]
     },
     "execution_count": 27,
     "metadata": {},
     "output_type": "execute_result"
    }
   ],
   "source": [
    "h_metrics.iloc[0,0] = \"Home\"\n",
    "h_metrics.loc[2] = [\"dropoff\", 1463]\n",
    "h_metrics.loc[3] = [\"total\", 3180]\n",
    "h_metrics"
   ]
  },
  {
   "cell_type": "code",
   "execution_count": 28,
   "metadata": {},
   "outputs": [
    {
     "name": "stdout",
     "output_type": "stream",
     "text": [
      "<class 'pandas.core.frame.DataFrame'>\n",
      "Index: 4 entries, home to total\n",
      "Data columns (total 5 columns):\n",
      " #   Column    Non-Null Count  Dtype\n",
      "---  ------    --------------  -----\n",
      " 0   interact  4 non-null      int64\n",
      " 1   help      4 non-null      int64\n",
      " 2   learn     4 non-null      int64\n",
      " 3   services  4 non-null      int64\n",
      " 4   connect   4 non-null      int64\n",
      "dtypes: int64(5)\n",
      "memory usage: 192.0+ bytes\n"
     ]
    }
   ],
   "source": [
    "montana_lib = pd.DataFrame()\n",
    "montana_lib[\"interact\"] = i_metrics[\"No. clicks\"]\n",
    "montana_lib[\"help\"] = h_metrics[\"No. clicks\"]\n",
    "montana_lib[\"learn\"] = l_metrics[\"No. clicks\"]\n",
    "montana_lib[\"services\"] = s_metrics[\"No. clicks\"]\n",
    "montana_lib[\"connect\"] = c_metrics[\"No. clicks\"]\n",
    "montana_lib[\"type\"] = [\"home\", \"click\", \"drop_off\", \"total\"]\n",
    "montana_test = montana_lib.copy()\n",
    "montana_test = montana_test.set_index(\"type\", drop=True).rename_axis(None)\n",
    "montana_test.info()"
   ]
  },
  {
   "attachments": {},
   "cell_type": "markdown",
   "metadata": {},
   "source": [
    "# Dataframe above accounts for the 3 predefined metrics in absolute numbers, thus creating rows with pct of total visits"
   ]
  },
  {
   "cell_type": "code",
   "execution_count": 29,
   "metadata": {},
   "outputs": [
    {
     "data": {
      "text/html": [
       "<div>\n",
       "<style scoped>\n",
       "    .dataframe tbody tr th:only-of-type {\n",
       "        vertical-align: middle;\n",
       "    }\n",
       "\n",
       "    .dataframe tbody tr th {\n",
       "        vertical-align: top;\n",
       "    }\n",
       "\n",
       "    .dataframe thead th {\n",
       "        text-align: right;\n",
       "    }\n",
       "</style>\n",
       "<table border=\"1\" class=\"dataframe\">\n",
       "  <thead>\n",
       "    <tr style=\"text-align: right;\">\n",
       "      <th></th>\n",
       "      <th>interact</th>\n",
       "      <th>help</th>\n",
       "      <th>learn</th>\n",
       "      <th>services</th>\n",
       "      <th>connect</th>\n",
       "    </tr>\n",
       "  </thead>\n",
       "  <tbody>\n",
       "    <tr>\n",
       "      <th>home</th>\n",
       "      <td>1291.00</td>\n",
       "      <td>122.00</td>\n",
       "      <td>83.00</td>\n",
       "      <td>49.00</td>\n",
       "      <td>83.00</td>\n",
       "    </tr>\n",
       "    <tr>\n",
       "      <th>click</th>\n",
       "      <td>42.00</td>\n",
       "      <td>38.00</td>\n",
       "      <td>21.00</td>\n",
       "      <td>45.00</td>\n",
       "      <td>53.00</td>\n",
       "    </tr>\n",
       "    <tr>\n",
       "      <th>drop_off</th>\n",
       "      <td>6569.00</td>\n",
       "      <td>1463.00</td>\n",
       "      <td>1095.00</td>\n",
       "      <td>716.00</td>\n",
       "      <td>1155.00</td>\n",
       "    </tr>\n",
       "    <tr>\n",
       "      <th>total</th>\n",
       "      <td>10283.00</td>\n",
       "      <td>3180.00</td>\n",
       "      <td>2747.00</td>\n",
       "      <td>2064.00</td>\n",
       "      <td>2742.00</td>\n",
       "    </tr>\n",
       "    <tr>\n",
       "      <th>CTR</th>\n",
       "      <td>0.41</td>\n",
       "      <td>1.19</td>\n",
       "      <td>0.76</td>\n",
       "      <td>2.18</td>\n",
       "      <td>1.93</td>\n",
       "    </tr>\n",
       "    <tr>\n",
       "      <th>DO_rate</th>\n",
       "      <td>63.88</td>\n",
       "      <td>46.01</td>\n",
       "      <td>39.86</td>\n",
       "      <td>34.69</td>\n",
       "      <td>42.12</td>\n",
       "    </tr>\n",
       "    <tr>\n",
       "      <th>HP_rate</th>\n",
       "      <td>12.55</td>\n",
       "      <td>3.84</td>\n",
       "      <td>3.02</td>\n",
       "      <td>2.37</td>\n",
       "      <td>3.03</td>\n",
       "    </tr>\n",
       "  </tbody>\n",
       "</table>\n",
       "</div>"
      ],
      "text/plain": [
       "          interact    help   learn  services  connect\n",
       "home       1291.00  122.00   83.00     49.00    83.00\n",
       "click        42.00   38.00   21.00     45.00    53.00\n",
       "drop_off   6569.00 1463.00 1095.00    716.00  1155.00\n",
       "total     10283.00 3180.00 2747.00   2064.00  2742.00\n",
       "CTR           0.41    1.19    0.76      2.18     1.93\n",
       "DO_rate      63.88   46.01   39.86     34.69    42.12\n",
       "HP_rate      12.55    3.84    3.02      2.37     3.03"
      ]
     },
     "execution_count": 29,
     "metadata": {},
     "output_type": "execute_result"
    }
   ],
   "source": [
    "montana = montana_test\n",
    "montana.loc[\"CTR\"] = ((montana.loc[\"click\"]/montana.loc[\"total\"])*100).round(2)\n",
    "montana.loc[\"DO_rate\"] = ((montana.loc[\"drop_off\"]/montana.loc[\"total\"])*100).round(2)\n",
    "montana.loc[\"HP_rate\"] = ((montana.loc[\"home\"]/montana.loc[\"total\"])*100).round(2)\n",
    "montana"
   ]
  },
  {
   "attachments": {},
   "cell_type": "markdown",
   "metadata": {},
   "source": [
    "# What was the click-through rate for each version?\n",
    "See DF above\n",
    "\n",
    "# Which version was the winner?\n",
    "\"services\" shows highest CTR while having lowest Homepage- and drop-off-ratings\n",
    "\n",
    "# Do the results seem conclusive?\n",
    "Although looking good, the findings need to be tested for statistical significance. Therefore a CHI-SQUARED-Test is needed since categorical data is under scrutiny"
   ]
  },
  {
   "attachments": {},
   "cell_type": "markdown",
   "metadata": {},
   "source": [
    "# Data-Requirements for CHI-SQUARED-Testing\n",
    "- categorical data? both axes of DF show categorical values\n",
    "- independence of observations? we need to trust crazy.eggs for setting up a valid research\n",
    "- mutual exxclusiveness? given, since all categories are either/or\n",
    "- sample size? needs to be checked due to dependence on EXPECTED VALUES"
   ]
  },
  {
   "cell_type": "code",
   "execution_count": 30,
   "metadata": {},
   "outputs": [
    {
     "data": {
      "text/html": [
       "<div>\n",
       "<style scoped>\n",
       "    .dataframe tbody tr th:only-of-type {\n",
       "        vertical-align: middle;\n",
       "    }\n",
       "\n",
       "    .dataframe tbody tr th {\n",
       "        vertical-align: top;\n",
       "    }\n",
       "\n",
       "    .dataframe thead th {\n",
       "        text-align: right;\n",
       "    }\n",
       "</style>\n",
       "<table border=\"1\" class=\"dataframe\">\n",
       "  <thead>\n",
       "    <tr style=\"text-align: right;\">\n",
       "      <th></th>\n",
       "      <th>interact</th>\n",
       "      <th>help</th>\n",
       "      <th>learn</th>\n",
       "      <th>services</th>\n",
       "      <th>connect</th>\n",
       "      <th>total</th>\n",
       "    </tr>\n",
       "  </thead>\n",
       "  <tbody>\n",
       "    <tr>\n",
       "      <th>home</th>\n",
       "      <td>1291.00</td>\n",
       "      <td>122.00</td>\n",
       "      <td>83.00</td>\n",
       "      <td>49.00</td>\n",
       "      <td>83.00</td>\n",
       "      <td>1628.00</td>\n",
       "    </tr>\n",
       "    <tr>\n",
       "      <th>click</th>\n",
       "      <td>42.00</td>\n",
       "      <td>38.00</td>\n",
       "      <td>21.00</td>\n",
       "      <td>45.00</td>\n",
       "      <td>53.00</td>\n",
       "      <td>199.00</td>\n",
       "    </tr>\n",
       "    <tr>\n",
       "      <th>drop_off</th>\n",
       "      <td>6569.00</td>\n",
       "      <td>1463.00</td>\n",
       "      <td>1095.00</td>\n",
       "      <td>716.00</td>\n",
       "      <td>1155.00</td>\n",
       "      <td>10998.00</td>\n",
       "    </tr>\n",
       "    <tr>\n",
       "      <th>total</th>\n",
       "      <td>10283.00</td>\n",
       "      <td>3180.00</td>\n",
       "      <td>2747.00</td>\n",
       "      <td>2064.00</td>\n",
       "      <td>2742.00</td>\n",
       "      <td>21016.00</td>\n",
       "    </tr>\n",
       "  </tbody>\n",
       "</table>\n",
       "</div>"
      ],
      "text/plain": [
       "          interact    help   learn  services  connect    total\n",
       "home       1291.00  122.00   83.00     49.00    83.00  1628.00\n",
       "click        42.00   38.00   21.00     45.00    53.00   199.00\n",
       "drop_off   6569.00 1463.00 1095.00    716.00  1155.00 10998.00\n",
       "total     10283.00 3180.00 2747.00   2064.00  2742.00 21016.00"
      ]
     },
     "execution_count": 30,
     "metadata": {},
     "output_type": "execute_result"
    }
   ],
   "source": [
    "montana[\"total\"] = montana.interact + montana.help + montana.learn + montana.services + montana.connect\n",
    "\n",
    "#dropping percentages from DF since absolute numbers are to be examined in CHI-SQUARE-TEST / summing up percentages does not help here\n",
    "montana_chi = montana.iloc[0:4, :]\n",
    "montana_chi"
   ]
  },
  {
   "cell_type": "code",
   "execution_count": 31,
   "metadata": {},
   "outputs": [
    {
     "data": {
      "text/plain": [
       "3"
      ]
     },
     "execution_count": 31,
     "metadata": {},
     "output_type": "execute_result"
    }
   ],
   "source": [
    "# For reasons of clarity, we get the largest index of the observed_expanded dataframe and assign it to a variable.\n",
    "max_row_index = len(montana_chi.index)-1\n",
    "max_row_index"
   ]
  },
  {
   "cell_type": "code",
   "execution_count": 32,
   "metadata": {},
   "outputs": [
    {
     "data": {
      "text/plain": [
       "5"
      ]
     },
     "execution_count": 32,
     "metadata": {},
     "output_type": "execute_result"
    }
   ],
   "source": [
    "# For reasons of clarity, we get the largest index of the observed_expanded dataframe columns and assign it to a variable.\n",
    "max_column_index = len(montana_chi.columns)-1\n",
    "max_column_index"
   ]
  },
  {
   "cell_type": "code",
   "execution_count": 33,
   "metadata": {},
   "outputs": [
    {
     "data": {
      "text/html": [
       "<div>\n",
       "<style scoped>\n",
       "    .dataframe tbody tr th:only-of-type {\n",
       "        vertical-align: middle;\n",
       "    }\n",
       "\n",
       "    .dataframe tbody tr th {\n",
       "        vertical-align: top;\n",
       "    }\n",
       "\n",
       "    .dataframe thead th {\n",
       "        text-align: right;\n",
       "    }\n",
       "</style>\n",
       "<table border=\"1\" class=\"dataframe\">\n",
       "  <thead>\n",
       "    <tr style=\"text-align: right;\">\n",
       "      <th></th>\n",
       "      <th>interact</th>\n",
       "      <th>help</th>\n",
       "      <th>learn</th>\n",
       "      <th>services</th>\n",
       "      <th>connect</th>\n",
       "      <th>total</th>\n",
       "    </tr>\n",
       "  </thead>\n",
       "  <tbody>\n",
       "    <tr>\n",
       "      <th>home</th>\n",
       "      <td>796.57</td>\n",
       "      <td>246.34</td>\n",
       "      <td>212.80</td>\n",
       "      <td>159.89</td>\n",
       "      <td>212.41</td>\n",
       "      <td>1628.00</td>\n",
       "    </tr>\n",
       "    <tr>\n",
       "      <th>click</th>\n",
       "      <td>97.37</td>\n",
       "      <td>30.11</td>\n",
       "      <td>26.01</td>\n",
       "      <td>19.54</td>\n",
       "      <td>25.96</td>\n",
       "      <td>199.00</td>\n",
       "    </tr>\n",
       "    <tr>\n",
       "      <th>drop_off</th>\n",
       "      <td>5381.25</td>\n",
       "      <td>1664.14</td>\n",
       "      <td>1437.55</td>\n",
       "      <td>1080.12</td>\n",
       "      <td>1434.93</td>\n",
       "      <td>10998.00</td>\n",
       "    </tr>\n",
       "    <tr>\n",
       "      <th>total</th>\n",
       "      <td>10283.00</td>\n",
       "      <td>3180.00</td>\n",
       "      <td>2747.00</td>\n",
       "      <td>2064.00</td>\n",
       "      <td>2742.00</td>\n",
       "      <td>21016.00</td>\n",
       "    </tr>\n",
       "  </tbody>\n",
       "</table>\n",
       "</div>"
      ],
      "text/plain": [
       "          interact    help   learn  services  connect    total\n",
       "home        796.57  246.34  212.80    159.89   212.41  1628.00\n",
       "click        97.37   30.11   26.01     19.54    25.96   199.00\n",
       "drop_off   5381.25 1664.14 1437.55   1080.12  1434.93 10998.00\n",
       "total     10283.00 3180.00 2747.00   2064.00  2742.00 21016.00"
      ]
     },
     "execution_count": 33,
     "metadata": {},
     "output_type": "execute_result"
    }
   ],
   "source": [
    "# Create table for the expected values as a copy of the observed table.\n",
    "# We will overwrite the values in the cells with the code below.\n",
    "montana_chi2 = montana_chi.copy()\n",
    "\n",
    "# Iterating over the rows in the table.\n",
    "for i in range(montana_chi2.shape[0]):\n",
    "  # Iterating over the columns in the table.\n",
    "  for j in range(montana_chi2.shape[1]):\n",
    "    # Setting the value in each cell to be equal to:\n",
    "    # the Total value of that same columns in the observed_expanded table\n",
    "    # (i.e. the total visitors of that version),\n",
    "    # multiplied by the share of that row's total from the overall total\n",
    "    # (i.e. the share of clicks/no-clicks from the overall total number of visitors) \n",
    "    montana_chi2.iloc[i,j] = montana_chi.iloc[max_row_index,j] * (montana_chi.iloc[i,max_column_index]/montana_chi.iloc[max_row_index,max_column_index])\n",
    "\n",
    "montana_chi2"
   ]
  },
  {
   "attachments": {},
   "cell_type": "markdown",
   "metadata": {},
   "source": [
    "# all expected values are larger than 5 --> sample size is sufficient"
   ]
  },
  {
   "attachments": {},
   "cell_type": "markdown",
   "metadata": {},
   "source": [
    "# DoF? 2*4 = 8 both totals are excluded from DoF calculation and formula is (rows-1)*(cloumns-1)\n",
    "# Pearson-Residuals to be calculated now"
   ]
  },
  {
   "cell_type": "code",
   "execution_count": 34,
   "metadata": {},
   "outputs": [
    {
     "data": {
      "text/html": [
       "<div>\n",
       "<style scoped>\n",
       "    .dataframe tbody tr th:only-of-type {\n",
       "        vertical-align: middle;\n",
       "    }\n",
       "\n",
       "    .dataframe tbody tr th {\n",
       "        vertical-align: top;\n",
       "    }\n",
       "\n",
       "    .dataframe thead th {\n",
       "        text-align: right;\n",
       "    }\n",
       "</style>\n",
       "<table border=\"1\" class=\"dataframe\">\n",
       "  <thead>\n",
       "    <tr style=\"text-align: right;\">\n",
       "      <th></th>\n",
       "      <th>interact</th>\n",
       "      <th>help</th>\n",
       "      <th>learn</th>\n",
       "      <th>services</th>\n",
       "      <th>connect</th>\n",
       "      <th>total</th>\n",
       "    </tr>\n",
       "  </thead>\n",
       "  <tbody>\n",
       "    <tr>\n",
       "      <th>home</th>\n",
       "      <td>17.52</td>\n",
       "      <td>-7.92</td>\n",
       "      <td>-8.90</td>\n",
       "      <td>-8.77</td>\n",
       "      <td>-8.88</td>\n",
       "      <td>0.00</td>\n",
       "    </tr>\n",
       "    <tr>\n",
       "      <th>click</th>\n",
       "      <td>-5.61</td>\n",
       "      <td>1.44</td>\n",
       "      <td>-0.98</td>\n",
       "      <td>5.76</td>\n",
       "      <td>5.31</td>\n",
       "      <td>0.00</td>\n",
       "    </tr>\n",
       "    <tr>\n",
       "      <th>drop_off</th>\n",
       "      <td>16.19</td>\n",
       "      <td>-4.93</td>\n",
       "      <td>-9.03</td>\n",
       "      <td>-11.08</td>\n",
       "      <td>-7.39</td>\n",
       "      <td>0.00</td>\n",
       "    </tr>\n",
       "    <tr>\n",
       "      <th>total</th>\n",
       "      <td>0.00</td>\n",
       "      <td>0.00</td>\n",
       "      <td>0.00</td>\n",
       "      <td>0.00</td>\n",
       "      <td>0.00</td>\n",
       "      <td>0.00</td>\n",
       "    </tr>\n",
       "  </tbody>\n",
       "</table>\n",
       "</div>"
      ],
      "text/plain": [
       "          interact  help  learn  services  connect  total\n",
       "home         17.52 -7.92  -8.90     -8.77    -8.88   0.00\n",
       "click        -5.61  1.44  -0.98      5.76     5.31   0.00\n",
       "drop_off     16.19 -4.93  -9.03    -11.08    -7.39   0.00\n",
       "total         0.00  0.00   0.00      0.00     0.00   0.00"
      ]
     },
     "execution_count": 34,
     "metadata": {},
     "output_type": "execute_result"
    }
   ],
   "source": [
    "# Define the function and show the dataframe with all the residuals.\n",
    "def pearson_residuals(contingency_observed, contingency_expected):\n",
    "    R = (contingency_observed - contingency_expected) / (np.sqrt(contingency_expected))\n",
    "    return R\n",
    "\n",
    "p_residuals = pearson_residuals(montana_chi, montana_chi2)\n",
    "p_residuals"
   ]
  },
  {
   "cell_type": "code",
   "execution_count": 35,
   "metadata": {},
   "outputs": [
    {
     "data": {
      "text/html": [
       "<div>\n",
       "<style scoped>\n",
       "    .dataframe tbody tr th:only-of-type {\n",
       "        vertical-align: middle;\n",
       "    }\n",
       "\n",
       "    .dataframe tbody tr th {\n",
       "        vertical-align: top;\n",
       "    }\n",
       "\n",
       "    .dataframe thead th {\n",
       "        text-align: right;\n",
       "    }\n",
       "</style>\n",
       "<table border=\"1\" class=\"dataframe\">\n",
       "  <thead>\n",
       "    <tr style=\"text-align: right;\">\n",
       "      <th></th>\n",
       "      <th>interact</th>\n",
       "      <th>help</th>\n",
       "      <th>learn</th>\n",
       "      <th>services</th>\n",
       "      <th>connect</th>\n",
       "      <th>total</th>\n",
       "    </tr>\n",
       "  </thead>\n",
       "  <tbody>\n",
       "    <tr>\n",
       "      <th>home</th>\n",
       "      <td>306.89</td>\n",
       "      <td>62.76</td>\n",
       "      <td>79.17</td>\n",
       "      <td>76.90</td>\n",
       "      <td>78.84</td>\n",
       "      <td>0.00</td>\n",
       "    </tr>\n",
       "    <tr>\n",
       "      <th>click</th>\n",
       "      <td>31.49</td>\n",
       "      <td>2.07</td>\n",
       "      <td>0.97</td>\n",
       "      <td>33.16</td>\n",
       "      <td>28.15</td>\n",
       "      <td>0.00</td>\n",
       "    </tr>\n",
       "    <tr>\n",
       "      <th>drop_off</th>\n",
       "      <td>262.16</td>\n",
       "      <td>24.31</td>\n",
       "      <td>81.62</td>\n",
       "      <td>122.75</td>\n",
       "      <td>54.61</td>\n",
       "      <td>0.00</td>\n",
       "    </tr>\n",
       "    <tr>\n",
       "      <th>total</th>\n",
       "      <td>0.00</td>\n",
       "      <td>0.00</td>\n",
       "      <td>0.00</td>\n",
       "      <td>0.00</td>\n",
       "      <td>0.00</td>\n",
       "      <td>0.00</td>\n",
       "    </tr>\n",
       "  </tbody>\n",
       "</table>\n",
       "</div>"
      ],
      "text/plain": [
       "          interact  help  learn  services  connect  total\n",
       "home        306.89 62.76  79.17     76.90    78.84   0.00\n",
       "click        31.49  2.07   0.97     33.16    28.15   0.00\n",
       "drop_off    262.16 24.31  81.62    122.75    54.61   0.00\n",
       "total         0.00  0.00   0.00      0.00     0.00   0.00"
      ]
     },
     "execution_count": 35,
     "metadata": {},
     "output_type": "execute_result"
    }
   ],
   "source": [
    "# Square all the residuals.\n",
    "p_residuals_squared = p_residuals ** 2\n",
    "p_residuals_squared"
   ]
  },
  {
   "cell_type": "code",
   "execution_count": 36,
   "metadata": {},
   "outputs": [
    {
     "data": {
      "text/plain": [
       "1245.8479430432371"
      ]
     },
     "execution_count": 36,
     "metadata": {},
     "output_type": "execute_result"
    }
   ],
   "source": [
    "# Add all the squared residuals to get the test statistic.\n",
    "test_statistic = p_residuals_squared.values.sum()\n",
    "test_statistic"
   ]
  },
  {
   "cell_type": "code",
   "execution_count": 37,
   "metadata": {},
   "outputs": [
    {
     "data": {
      "text/plain": [
       "1245.847943043237"
      ]
     },
     "execution_count": 37,
     "metadata": {},
     "output_type": "execute_result"
    }
   ],
   "source": [
    "residuals = []\n",
    "columns = montana_chi.columns\n",
    "for column in columns:\n",
    "  for category in range(montana_chi.shape[0]):\n",
    "    residuals.append(((montana_chi[column][category] - montana_chi2[column][category]) / np.sqrt(montana_chi2[column][category]))**2)\n",
    "\n",
    "sum(residuals)"
   ]
  },
  {
   "attachments": {},
   "cell_type": "markdown",
   "metadata": {},
   "source": [
    "# critical value for CHI-SQUARED for alpha = 0.1 and DoF = 8: 13.36; test-statistic is by factor 100 bigger, so we are clearly in the critical zone and H0: all buttons are equal has to be rejected"
   ]
  },
  {
   "attachments": {},
   "cell_type": "markdown",
   "metadata": {},
   "source": [
    "# dropping the metrics for drop-off and home (since both measure the drop-off from original and not landing-page), although HUGE discrepencies between the diffenrent layouts can be observed"
   ]
  },
  {
   "cell_type": "code",
   "execution_count": 38,
   "metadata": {},
   "outputs": [
    {
     "data": {
      "text/html": [
       "<div>\n",
       "<style scoped>\n",
       "    .dataframe tbody tr th:only-of-type {\n",
       "        vertical-align: middle;\n",
       "    }\n",
       "\n",
       "    .dataframe tbody tr th {\n",
       "        vertical-align: top;\n",
       "    }\n",
       "\n",
       "    .dataframe thead th {\n",
       "        text-align: right;\n",
       "    }\n",
       "</style>\n",
       "<table border=\"1\" class=\"dataframe\">\n",
       "  <thead>\n",
       "    <tr style=\"text-align: right;\">\n",
       "      <th></th>\n",
       "      <th>interact</th>\n",
       "      <th>help</th>\n",
       "      <th>learn</th>\n",
       "      <th>services</th>\n",
       "      <th>connect</th>\n",
       "      <th>total</th>\n",
       "    </tr>\n",
       "  </thead>\n",
       "  <tbody>\n",
       "    <tr>\n",
       "      <th>click</th>\n",
       "      <td>42.00</td>\n",
       "      <td>38.00</td>\n",
       "      <td>21.00</td>\n",
       "      <td>45.00</td>\n",
       "      <td>53.00</td>\n",
       "      <td>199.00</td>\n",
       "    </tr>\n",
       "    <tr>\n",
       "      <th>no_click</th>\n",
       "      <td>10241.00</td>\n",
       "      <td>3142.00</td>\n",
       "      <td>2726.00</td>\n",
       "      <td>2019.00</td>\n",
       "      <td>2689.00</td>\n",
       "      <td>20817.00</td>\n",
       "    </tr>\n",
       "    <tr>\n",
       "      <th>visits</th>\n",
       "      <td>10283.00</td>\n",
       "      <td>3180.00</td>\n",
       "      <td>2747.00</td>\n",
       "      <td>2064.00</td>\n",
       "      <td>2742.00</td>\n",
       "      <td>21016.00</td>\n",
       "    </tr>\n",
       "  </tbody>\n",
       "</table>\n",
       "</div>"
      ],
      "text/plain": [
       "          interact    help   learn  services  connect    total\n",
       "click        42.00   38.00   21.00     45.00    53.00   199.00\n",
       "no_click  10241.00 3142.00 2726.00   2019.00  2689.00 20817.00\n",
       "visits    10283.00 3180.00 2747.00   2064.00  2742.00 21016.00"
      ]
     },
     "execution_count": 38,
     "metadata": {},
     "output_type": "execute_result"
    }
   ],
   "source": [
    "m = montana.copy()\n",
    "m.drop(\"home\", axis=0, inplace=True)\n",
    "m.drop(\"drop_off\", axis=0, inplace=True)\n",
    "m.drop(\"CTR\", axis=0, inplace=True)\n",
    "m.drop(\"DO_rate\", axis=0, inplace=True)\n",
    "m.drop(\"HP_rate\", axis=0, inplace=True)\n",
    "m.loc[\"no_click\"] = m.loc[\"total\"] - m.loc[\"click\"]\n",
    "m.loc[\"visits\"] = m.loc[\"total\"]\n",
    "m.drop(\"total\", axis=0, inplace=True)\n",
    "\n",
    "# showing click vs. non-click per button-design\n",
    "m"
   ]
  },
  {
   "attachments": {},
   "cell_type": "markdown",
   "metadata": {},
   "source": [
    "# calculating expected values for m"
   ]
  },
  {
   "cell_type": "code",
   "execution_count": 39,
   "metadata": {},
   "outputs": [],
   "source": [
    "m_test = m.iloc[0:-1, 0:-1]"
   ]
  },
  {
   "cell_type": "code",
   "execution_count": 40,
   "metadata": {},
   "outputs": [
    {
     "data": {
      "text/html": [
       "<div>\n",
       "<style scoped>\n",
       "    .dataframe tbody tr th:only-of-type {\n",
       "        vertical-align: middle;\n",
       "    }\n",
       "\n",
       "    .dataframe tbody tr th {\n",
       "        vertical-align: top;\n",
       "    }\n",
       "\n",
       "    .dataframe thead th {\n",
       "        text-align: right;\n",
       "    }\n",
       "</style>\n",
       "<table border=\"1\" class=\"dataframe\">\n",
       "  <thead>\n",
       "    <tr style=\"text-align: right;\">\n",
       "      <th></th>\n",
       "      <th>interact</th>\n",
       "      <th>help</th>\n",
       "      <th>learn</th>\n",
       "      <th>services</th>\n",
       "      <th>connect</th>\n",
       "    </tr>\n",
       "  </thead>\n",
       "  <tbody>\n",
       "    <tr>\n",
       "      <th>click</th>\n",
       "      <td>42.00</td>\n",
       "      <td>38.00</td>\n",
       "      <td>21.00</td>\n",
       "      <td>45.00</td>\n",
       "      <td>53.00</td>\n",
       "    </tr>\n",
       "    <tr>\n",
       "      <th>no_click</th>\n",
       "      <td>10241.00</td>\n",
       "      <td>3142.00</td>\n",
       "      <td>2726.00</td>\n",
       "      <td>2019.00</td>\n",
       "      <td>2689.00</td>\n",
       "    </tr>\n",
       "  </tbody>\n",
       "</table>\n",
       "</div>"
      ],
      "text/plain": [
       "          interact    help   learn  services  connect\n",
       "click        42.00   38.00   21.00     45.00    53.00\n",
       "no_click  10241.00 3142.00 2726.00   2019.00  2689.00"
      ]
     },
     "execution_count": 40,
     "metadata": {},
     "output_type": "execute_result"
    }
   ],
   "source": [
    "m_test"
   ]
  },
  {
   "cell_type": "code",
   "execution_count": 41,
   "metadata": {},
   "outputs": [
    {
     "data": {
      "text/html": [
       "<div>\n",
       "<style scoped>\n",
       "    .dataframe tbody tr th:only-of-type {\n",
       "        vertical-align: middle;\n",
       "    }\n",
       "\n",
       "    .dataframe tbody tr th {\n",
       "        vertical-align: top;\n",
       "    }\n",
       "\n",
       "    .dataframe thead th {\n",
       "        text-align: right;\n",
       "    }\n",
       "</style>\n",
       "<table border=\"1\" class=\"dataframe\">\n",
       "  <thead>\n",
       "    <tr style=\"text-align: right;\">\n",
       "      <th></th>\n",
       "      <th>interact</th>\n",
       "      <th>help</th>\n",
       "      <th>learn</th>\n",
       "      <th>services</th>\n",
       "      <th>connect</th>\n",
       "      <th>total</th>\n",
       "    </tr>\n",
       "  </thead>\n",
       "  <tbody>\n",
       "    <tr>\n",
       "      <th>click</th>\n",
       "      <td>42.00</td>\n",
       "      <td>38.00</td>\n",
       "      <td>21.00</td>\n",
       "      <td>45.00</td>\n",
       "      <td>53.00</td>\n",
       "      <td>199.00</td>\n",
       "    </tr>\n",
       "    <tr>\n",
       "      <th>no_click</th>\n",
       "      <td>10241.00</td>\n",
       "      <td>3142.00</td>\n",
       "      <td>2726.00</td>\n",
       "      <td>2019.00</td>\n",
       "      <td>2689.00</td>\n",
       "      <td>20817.00</td>\n",
       "    </tr>\n",
       "    <tr>\n",
       "      <th>visits</th>\n",
       "      <td>10283.00</td>\n",
       "      <td>3180.00</td>\n",
       "      <td>2747.00</td>\n",
       "      <td>2064.00</td>\n",
       "      <td>2742.00</td>\n",
       "      <td>21016.00</td>\n",
       "    </tr>\n",
       "  </tbody>\n",
       "</table>\n",
       "</div>"
      ],
      "text/plain": [
       "          interact    help   learn  services  connect    total\n",
       "click        42.00   38.00   21.00     45.00    53.00   199.00\n",
       "no_click  10241.00 3142.00 2726.00   2019.00  2689.00 20817.00\n",
       "visits    10283.00 3180.00 2747.00   2064.00  2742.00 21016.00"
      ]
     },
     "execution_count": 41,
     "metadata": {},
     "output_type": "execute_result"
    }
   ],
   "source": [
    "m"
   ]
  },
  {
   "cell_type": "code",
   "execution_count": 42,
   "metadata": {},
   "outputs": [
    {
     "data": {
      "text/plain": [
       "2"
      ]
     },
     "execution_count": 42,
     "metadata": {},
     "output_type": "execute_result"
    }
   ],
   "source": [
    "# For reasons of clarity, we get the largest index of the observed_expanded dataframe and assign it to a variable.\n",
    "max_row_index = len(m.index)-1\n",
    "max_row_index"
   ]
  },
  {
   "cell_type": "code",
   "execution_count": 43,
   "metadata": {},
   "outputs": [
    {
     "data": {
      "text/plain": [
       "5"
      ]
     },
     "execution_count": 43,
     "metadata": {},
     "output_type": "execute_result"
    }
   ],
   "source": [
    "# For reasons of clarity, we get the largest index of the observed_expanded dataframe columns and assign it to a variable.\n",
    "max_column_index = len(m.columns)-1\n",
    "max_column_index"
   ]
  },
  {
   "cell_type": "code",
   "execution_count": 44,
   "metadata": {},
   "outputs": [
    {
     "data": {
      "text/html": [
       "<div>\n",
       "<style scoped>\n",
       "    .dataframe tbody tr th:only-of-type {\n",
       "        vertical-align: middle;\n",
       "    }\n",
       "\n",
       "    .dataframe tbody tr th {\n",
       "        vertical-align: top;\n",
       "    }\n",
       "\n",
       "    .dataframe thead th {\n",
       "        text-align: right;\n",
       "    }\n",
       "</style>\n",
       "<table border=\"1\" class=\"dataframe\">\n",
       "  <thead>\n",
       "    <tr style=\"text-align: right;\">\n",
       "      <th></th>\n",
       "      <th>interact</th>\n",
       "      <th>help</th>\n",
       "      <th>learn</th>\n",
       "      <th>services</th>\n",
       "      <th>connect</th>\n",
       "      <th>total</th>\n",
       "    </tr>\n",
       "  </thead>\n",
       "  <tbody>\n",
       "    <tr>\n",
       "      <th>click</th>\n",
       "      <td>97.37</td>\n",
       "      <td>30.11</td>\n",
       "      <td>26.01</td>\n",
       "      <td>19.54</td>\n",
       "      <td>25.96</td>\n",
       "      <td>199.00</td>\n",
       "    </tr>\n",
       "    <tr>\n",
       "      <th>no_click</th>\n",
       "      <td>10185.63</td>\n",
       "      <td>3149.89</td>\n",
       "      <td>2720.99</td>\n",
       "      <td>2044.46</td>\n",
       "      <td>2716.04</td>\n",
       "      <td>20817.00</td>\n",
       "    </tr>\n",
       "    <tr>\n",
       "      <th>visits</th>\n",
       "      <td>10283.00</td>\n",
       "      <td>3180.00</td>\n",
       "      <td>2747.00</td>\n",
       "      <td>2064.00</td>\n",
       "      <td>2742.00</td>\n",
       "      <td>21016.00</td>\n",
       "    </tr>\n",
       "  </tbody>\n",
       "</table>\n",
       "</div>"
      ],
      "text/plain": [
       "          interact    help   learn  services  connect    total\n",
       "click        97.37   30.11   26.01     19.54    25.96   199.00\n",
       "no_click  10185.63 3149.89 2720.99   2044.46  2716.04 20817.00\n",
       "visits    10283.00 3180.00 2747.00   2064.00  2742.00 21016.00"
      ]
     },
     "execution_count": 44,
     "metadata": {},
     "output_type": "execute_result"
    }
   ],
   "source": [
    "# Create table for the expected values as a copy of the observed table.\n",
    "# We will overwrite the values in the cells with the code below.\n",
    "m_chi = m.copy()\n",
    "\n",
    "# Iterating over the rows in the table.\n",
    "for i in range(m_chi.shape[0]):\n",
    "  # Iterating over the columns in the table.\n",
    "  for j in range(m_chi.shape[1]):\n",
    "    # Setting the value in each cell to be equal to:\n",
    "    # the Total value of that same columns in the observed_expanded table\n",
    "    # (i.e. the total visitors of that version),\n",
    "    # multiplied by the share of that row's total from the overall total\n",
    "    # (i.e. the share of clicks/no-clicks from the overall total number of visitors) \n",
    "    m_chi.iloc[i,j] = m.iloc[max_row_index,j] * (m.iloc[i,max_column_index]/m.iloc[max_row_index,max_column_index])\n",
    "\n",
    "m_chi"
   ]
  },
  {
   "cell_type": "code",
   "execution_count": 45,
   "metadata": {},
   "outputs": [
    {
     "data": {
      "text/html": [
       "<div>\n",
       "<style scoped>\n",
       "    .dataframe tbody tr th:only-of-type {\n",
       "        vertical-align: middle;\n",
       "    }\n",
       "\n",
       "    .dataframe tbody tr th {\n",
       "        vertical-align: top;\n",
       "    }\n",
       "\n",
       "    .dataframe thead th {\n",
       "        text-align: right;\n",
       "    }\n",
       "</style>\n",
       "<table border=\"1\" class=\"dataframe\">\n",
       "  <thead>\n",
       "    <tr style=\"text-align: right;\">\n",
       "      <th></th>\n",
       "      <th>interact</th>\n",
       "      <th>help</th>\n",
       "      <th>learn</th>\n",
       "      <th>services</th>\n",
       "      <th>connect</th>\n",
       "      <th>total</th>\n",
       "    </tr>\n",
       "  </thead>\n",
       "  <tbody>\n",
       "    <tr>\n",
       "      <th>click</th>\n",
       "      <td>-5.61</td>\n",
       "      <td>1.44</td>\n",
       "      <td>-0.98</td>\n",
       "      <td>5.76</td>\n",
       "      <td>5.31</td>\n",
       "      <td>0.00</td>\n",
       "    </tr>\n",
       "    <tr>\n",
       "      <th>no_click</th>\n",
       "      <td>0.55</td>\n",
       "      <td>-0.14</td>\n",
       "      <td>0.10</td>\n",
       "      <td>-0.56</td>\n",
       "      <td>-0.52</td>\n",
       "      <td>0.00</td>\n",
       "    </tr>\n",
       "    <tr>\n",
       "      <th>visits</th>\n",
       "      <td>0.00</td>\n",
       "      <td>0.00</td>\n",
       "      <td>0.00</td>\n",
       "      <td>0.00</td>\n",
       "      <td>0.00</td>\n",
       "      <td>0.00</td>\n",
       "    </tr>\n",
       "  </tbody>\n",
       "</table>\n",
       "</div>"
      ],
      "text/plain": [
       "          interact  help  learn  services  connect  total\n",
       "click        -5.61  1.44  -0.98      5.76     5.31   0.00\n",
       "no_click      0.55 -0.14   0.10     -0.56    -0.52   0.00\n",
       "visits        0.00  0.00   0.00      0.00     0.00   0.00"
      ]
     },
     "execution_count": 45,
     "metadata": {},
     "output_type": "execute_result"
    }
   ],
   "source": [
    "# Define the function and show the dataframe with all the residuals.\n",
    "def pearson_residuals(contingency_observed, contingency_expected):\n",
    "    R = (contingency_observed - contingency_expected) / (np.sqrt(contingency_expected))\n",
    "    return R\n",
    "\n",
    "p_residuals = pearson_residuals(m, m_chi)\n",
    "p_residuals"
   ]
  },
  {
   "cell_type": "code",
   "execution_count": 46,
   "metadata": {},
   "outputs": [
    {
     "data": {
      "text/html": [
       "<div>\n",
       "<style scoped>\n",
       "    .dataframe tbody tr th:only-of-type {\n",
       "        vertical-align: middle;\n",
       "    }\n",
       "\n",
       "    .dataframe tbody tr th {\n",
       "        vertical-align: top;\n",
       "    }\n",
       "\n",
       "    .dataframe thead th {\n",
       "        text-align: right;\n",
       "    }\n",
       "</style>\n",
       "<table border=\"1\" class=\"dataframe\">\n",
       "  <thead>\n",
       "    <tr style=\"text-align: right;\">\n",
       "      <th></th>\n",
       "      <th>interact</th>\n",
       "      <th>help</th>\n",
       "      <th>learn</th>\n",
       "      <th>services</th>\n",
       "      <th>connect</th>\n",
       "      <th>total</th>\n",
       "    </tr>\n",
       "  </thead>\n",
       "  <tbody>\n",
       "    <tr>\n",
       "      <th>click</th>\n",
       "      <td>31.49</td>\n",
       "      <td>2.07</td>\n",
       "      <td>0.97</td>\n",
       "      <td>33.16</td>\n",
       "      <td>28.15</td>\n",
       "      <td>0.00</td>\n",
       "    </tr>\n",
       "    <tr>\n",
       "      <th>no_click</th>\n",
       "      <td>0.30</td>\n",
       "      <td>0.02</td>\n",
       "      <td>0.01</td>\n",
       "      <td>0.32</td>\n",
       "      <td>0.27</td>\n",
       "      <td>0.00</td>\n",
       "    </tr>\n",
       "    <tr>\n",
       "      <th>visits</th>\n",
       "      <td>0.00</td>\n",
       "      <td>0.00</td>\n",
       "      <td>0.00</td>\n",
       "      <td>0.00</td>\n",
       "      <td>0.00</td>\n",
       "      <td>0.00</td>\n",
       "    </tr>\n",
       "  </tbody>\n",
       "</table>\n",
       "</div>"
      ],
      "text/plain": [
       "          interact  help  learn  services  connect  total\n",
       "click        31.49  2.07   0.97     33.16    28.15   0.00\n",
       "no_click      0.30  0.02   0.01      0.32     0.27   0.00\n",
       "visits        0.00  0.00   0.00      0.00     0.00   0.00"
      ]
     },
     "execution_count": 46,
     "metadata": {},
     "output_type": "execute_result"
    }
   ],
   "source": [
    "# Square all the residuals.\n",
    "p_residuals_squared = p_residuals ** 2\n",
    "p_residuals_squared"
   ]
  },
  {
   "cell_type": "code",
   "execution_count": 47,
   "metadata": {},
   "outputs": [
    {
     "data": {
      "text/plain": [
       "96.74323537983281"
      ]
     },
     "execution_count": 47,
     "metadata": {},
     "output_type": "execute_result"
    }
   ],
   "source": [
    "test_statistic = p_residuals_squared.values.sum()\n",
    "test_statistic"
   ]
  },
  {
   "cell_type": "code",
   "execution_count": 48,
   "metadata": {},
   "outputs": [
    {
     "data": {
      "text/plain": [
       "96.74323537983281"
      ]
     },
     "execution_count": 48,
     "metadata": {},
     "output_type": "execute_result"
    }
   ],
   "source": [
    "residuals = []\n",
    "columns = montana_chi.columns\n",
    "for column in columns:\n",
    "  for category in range(m.shape[0]):\n",
    "    residuals.append(((m[column][category] - m_chi[column][category]) / np.sqrt(m_chi[column][category]))**2)\n",
    "\n",
    "sum(residuals)"
   ]
  },
  {
   "attachments": {},
   "cell_type": "markdown",
   "metadata": {},
   "source": [
    "## again: chi-squared is huge, so it is obvious that H0 - all buttons perform equally well - has to be rejected."
   ]
  },
  {
   "attachments": {},
   "cell_type": "markdown",
   "metadata": {},
   "source": [
    "# Since \"interact\" is clearly the worst performing button in terms of CTR it will be dropped from further analysis. Dropping the worst performer will be continued after repeated analysis of the remaining options"
   ]
  },
  {
   "cell_type": "code",
   "execution_count": 49,
   "metadata": {},
   "outputs": [],
   "source": [
    "m_4 = m.copy()\n",
    "m_4.drop(\"interact\", axis=1, inplace=True)\n"
   ]
  },
  {
   "cell_type": "code",
   "execution_count": 50,
   "metadata": {},
   "outputs": [
    {
     "data": {
      "text/html": [
       "<div>\n",
       "<style scoped>\n",
       "    .dataframe tbody tr th:only-of-type {\n",
       "        vertical-align: middle;\n",
       "    }\n",
       "\n",
       "    .dataframe tbody tr th {\n",
       "        vertical-align: top;\n",
       "    }\n",
       "\n",
       "    .dataframe thead th {\n",
       "        text-align: right;\n",
       "    }\n",
       "</style>\n",
       "<table border=\"1\" class=\"dataframe\">\n",
       "  <thead>\n",
       "    <tr style=\"text-align: right;\">\n",
       "      <th></th>\n",
       "      <th>help</th>\n",
       "      <th>learn</th>\n",
       "      <th>services</th>\n",
       "      <th>connect</th>\n",
       "      <th>total</th>\n",
       "    </tr>\n",
       "  </thead>\n",
       "  <tbody>\n",
       "    <tr>\n",
       "      <th>click</th>\n",
       "      <td>38.00</td>\n",
       "      <td>21.00</td>\n",
       "      <td>45.00</td>\n",
       "      <td>53.00</td>\n",
       "      <td>199.00</td>\n",
       "    </tr>\n",
       "    <tr>\n",
       "      <th>no_click</th>\n",
       "      <td>3142.00</td>\n",
       "      <td>2726.00</td>\n",
       "      <td>2019.00</td>\n",
       "      <td>2689.00</td>\n",
       "      <td>20817.00</td>\n",
       "    </tr>\n",
       "    <tr>\n",
       "      <th>visits</th>\n",
       "      <td>3180.00</td>\n",
       "      <td>2747.00</td>\n",
       "      <td>2064.00</td>\n",
       "      <td>2742.00</td>\n",
       "      <td>21016.00</td>\n",
       "    </tr>\n",
       "  </tbody>\n",
       "</table>\n",
       "</div>"
      ],
      "text/plain": [
       "            help   learn  services  connect    total\n",
       "click      38.00   21.00     45.00    53.00   199.00\n",
       "no_click 3142.00 2726.00   2019.00  2689.00 20817.00\n",
       "visits   3180.00 2747.00   2064.00  2742.00 21016.00"
      ]
     },
     "execution_count": 50,
     "metadata": {},
     "output_type": "execute_result"
    }
   ],
   "source": [
    "m_4"
   ]
  },
  {
   "cell_type": "code",
   "execution_count": 57,
   "metadata": {},
   "outputs": [
    {
     "data": {
      "text/html": [
       "<div>\n",
       "<style scoped>\n",
       "    .dataframe tbody tr th:only-of-type {\n",
       "        vertical-align: middle;\n",
       "    }\n",
       "\n",
       "    .dataframe tbody tr th {\n",
       "        vertical-align: top;\n",
       "    }\n",
       "\n",
       "    .dataframe thead th {\n",
       "        text-align: right;\n",
       "    }\n",
       "</style>\n",
       "<table border=\"1\" class=\"dataframe\">\n",
       "  <thead>\n",
       "    <tr style=\"text-align: right;\">\n",
       "      <th></th>\n",
       "      <th>help</th>\n",
       "      <th>learn</th>\n",
       "      <th>services</th>\n",
       "      <th>connect</th>\n",
       "    </tr>\n",
       "  </thead>\n",
       "  <tbody>\n",
       "    <tr>\n",
       "      <th>click</th>\n",
       "      <td>38.00</td>\n",
       "      <td>21.00</td>\n",
       "      <td>45.00</td>\n",
       "      <td>53.00</td>\n",
       "    </tr>\n",
       "    <tr>\n",
       "      <th>no_click</th>\n",
       "      <td>3142.00</td>\n",
       "      <td>2726.00</td>\n",
       "      <td>2019.00</td>\n",
       "      <td>2689.00</td>\n",
       "    </tr>\n",
       "  </tbody>\n",
       "</table>\n",
       "</div>"
      ],
      "text/plain": [
       "            help   learn  services  connect\n",
       "click      38.00   21.00     45.00    53.00\n",
       "no_click 3142.00 2726.00   2019.00  2689.00"
      ]
     },
     "execution_count": 57,
     "metadata": {},
     "output_type": "execute_result"
    }
   ],
   "source": [
    "m_4_chi = m_4.iloc[0:-1, 0:-1]\n",
    "m_4_chi"
   ]
  },
  {
   "attachments": {},
   "cell_type": "markdown",
   "metadata": {},
   "source": [
    "# instead of calculating chi-squared and expected values manually - the next steps will utilize scypy in order to perform the statistical analysis\n"
   ]
  },
  {
   "cell_type": "code",
   "execution_count": 51,
   "metadata": {},
   "outputs": [],
   "source": [
    "from scipy.stats import chi2_contingency"
   ]
  },
  {
   "cell_type": "code",
   "execution_count": 58,
   "metadata": {},
   "outputs": [
    {
     "data": {
      "text/plain": [
       "22.45097953040183"
      ]
     },
     "execution_count": 58,
     "metadata": {},
     "output_type": "execute_result"
    }
   ],
   "source": [
    "chisq, pvalue, df, expected = chi2_contingency(m_4_chi)\n",
    "chisq"
   ]
  },
  {
   "cell_type": "code",
   "execution_count": 59,
   "metadata": {},
   "outputs": [
    {
     "data": {
      "text/plain": [
       "array([[  46.51635144,   40.1825212 ,   30.19174509,   40.10938228],\n",
       "       [3133.48364856, 2706.8174788 , 2033.80825491, 2701.89061772]])"
      ]
     },
     "execution_count": 59,
     "metadata": {},
     "output_type": "execute_result"
    }
   ],
   "source": [
    "expected"
   ]
  },
  {
   "cell_type": "code",
   "execution_count": 55,
   "metadata": {},
   "outputs": [
    {
     "data": {
      "text/plain": [
       "8"
      ]
     },
     "execution_count": 55,
     "metadata": {},
     "output_type": "execute_result"
    }
   ],
   "source": [
    "df"
   ]
  },
  {
   "cell_type": "code",
   "execution_count": 60,
   "metadata": {},
   "outputs": [
    {
     "data": {
      "text/plain": [
       "5.255098702285646e-05"
      ]
     },
     "execution_count": 60,
     "metadata": {},
     "output_type": "execute_result"
    }
   ],
   "source": [
    "pvalue"
   ]
  },
  {
   "attachments": {},
   "cell_type": "markdown",
   "metadata": {},
   "source": [
    "## p-value extremely small while chi-square clearly above critical value (for dof=3 (rows-1)*(columns-1) and alpha=0.1: crit_value = 6.251) - H0 has to be rejected\n",
    "\"learn\" will be excluded next, because of having the worst CTR"
   ]
  },
  {
   "cell_type": "code",
   "execution_count": 63,
   "metadata": {},
   "outputs": [],
   "source": [
    "m_3 = m_4_chi.copy()\n",
    "m_3.drop(\"learn\", axis=1, inplace=True)\n"
   ]
  },
  {
   "cell_type": "code",
   "execution_count": 64,
   "metadata": {},
   "outputs": [
    {
     "data": {
      "text/html": [
       "<div>\n",
       "<style scoped>\n",
       "    .dataframe tbody tr th:only-of-type {\n",
       "        vertical-align: middle;\n",
       "    }\n",
       "\n",
       "    .dataframe tbody tr th {\n",
       "        vertical-align: top;\n",
       "    }\n",
       "\n",
       "    .dataframe thead th {\n",
       "        text-align: right;\n",
       "    }\n",
       "</style>\n",
       "<table border=\"1\" class=\"dataframe\">\n",
       "  <thead>\n",
       "    <tr style=\"text-align: right;\">\n",
       "      <th></th>\n",
       "      <th>help</th>\n",
       "      <th>services</th>\n",
       "      <th>connect</th>\n",
       "    </tr>\n",
       "  </thead>\n",
       "  <tbody>\n",
       "    <tr>\n",
       "      <th>click</th>\n",
       "      <td>38.00</td>\n",
       "      <td>45.00</td>\n",
       "      <td>53.00</td>\n",
       "    </tr>\n",
       "    <tr>\n",
       "      <th>no_click</th>\n",
       "      <td>3142.00</td>\n",
       "      <td>2019.00</td>\n",
       "      <td>2689.00</td>\n",
       "    </tr>\n",
       "  </tbody>\n",
       "</table>\n",
       "</div>"
      ],
      "text/plain": [
       "            help  services  connect\n",
       "click      38.00     45.00    53.00\n",
       "no_click 3142.00   2019.00  2689.00"
      ]
     },
     "execution_count": 64,
     "metadata": {},
     "output_type": "execute_result"
    }
   ],
   "source": [
    "m_3"
   ]
  },
  {
   "cell_type": "code",
   "execution_count": 65,
   "metadata": {},
   "outputs": [],
   "source": [
    "chisq, pvalue, df, expected = chi2_contingency(m_3)"
   ]
  },
  {
   "cell_type": "code",
   "execution_count": 67,
   "metadata": {},
   "outputs": [
    {
     "data": {
      "text/html": [
       "<div>\n",
       "<style scoped>\n",
       "    .dataframe tbody tr th:only-of-type {\n",
       "        vertical-align: middle;\n",
       "    }\n",
       "\n",
       "    .dataframe tbody tr th {\n",
       "        vertical-align: top;\n",
       "    }\n",
       "\n",
       "    .dataframe thead th {\n",
       "        text-align: right;\n",
       "    }\n",
       "</style>\n",
       "<table border=\"1\" class=\"dataframe\">\n",
       "  <thead>\n",
       "    <tr style=\"text-align: right;\">\n",
       "      <th></th>\n",
       "      <th>0</th>\n",
       "      <th>1</th>\n",
       "      <th>2</th>\n",
       "    </tr>\n",
       "  </thead>\n",
       "  <tbody>\n",
       "    <tr>\n",
       "      <th>0</th>\n",
       "      <td>54.15</td>\n",
       "      <td>35.15</td>\n",
       "      <td>46.70</td>\n",
       "    </tr>\n",
       "    <tr>\n",
       "      <th>1</th>\n",
       "      <td>3125.85</td>\n",
       "      <td>2028.85</td>\n",
       "      <td>2695.30</td>\n",
       "    </tr>\n",
       "  </tbody>\n",
       "</table>\n",
       "</div>"
      ],
      "text/plain": [
       "        0       1       2\n",
       "0   54.15   35.15   46.70\n",
       "1 3125.85 2028.85 2695.30"
      ]
     },
     "execution_count": 67,
     "metadata": {},
     "output_type": "execute_result"
    }
   ],
   "source": [
    "pd.DataFrame(expected)"
   ]
  },
  {
   "cell_type": "code",
   "execution_count": 68,
   "metadata": {},
   "outputs": [
    {
     "data": {
      "text/plain": [
       "0.013726659948517513"
      ]
     },
     "execution_count": 68,
     "metadata": {},
     "output_type": "execute_result"
    }
   ],
   "source": [
    "pvalue"
   ]
  },
  {
   "cell_type": "code",
   "execution_count": 69,
   "metadata": {},
   "outputs": [
    {
     "data": {
      "text/plain": [
       "8.57683071094785"
      ]
     },
     "execution_count": 69,
     "metadata": {},
     "output_type": "execute_result"
    }
   ],
   "source": [
    "chisq"
   ]
  },
  {
   "cell_type": "code",
   "execution_count": 70,
   "metadata": {},
   "outputs": [
    {
     "data": {
      "text/plain": [
       "2"
      ]
     },
     "execution_count": 70,
     "metadata": {},
     "output_type": "execute_result"
    }
   ],
   "source": [
    "df"
   ]
  },
  {
   "attachments": {},
   "cell_type": "markdown",
   "metadata": {},
   "source": [
    "## pvalue smaller than alpha = 0.1 and chi-squared bigger than crit value (0.1, dof=2: 4.605), H0 to be rejected, difference in outcome did not happen by chance under the assumption of all buttons working equally fine\n",
    "## since \"help\" is underperforming (CTR < expected value) it is discarded and we will finally compare \"connect\" and \"services\""
   ]
  },
  {
   "cell_type": "code",
   "execution_count": 71,
   "metadata": {},
   "outputs": [],
   "source": [
    "m_2 = m_3.copy()\n",
    "m_2.drop(\"help\", axis =1, inplace=True)"
   ]
  },
  {
   "cell_type": "code",
   "execution_count": 72,
   "metadata": {},
   "outputs": [
    {
     "data": {
      "text/html": [
       "<div>\n",
       "<style scoped>\n",
       "    .dataframe tbody tr th:only-of-type {\n",
       "        vertical-align: middle;\n",
       "    }\n",
       "\n",
       "    .dataframe tbody tr th {\n",
       "        vertical-align: top;\n",
       "    }\n",
       "\n",
       "    .dataframe thead th {\n",
       "        text-align: right;\n",
       "    }\n",
       "</style>\n",
       "<table border=\"1\" class=\"dataframe\">\n",
       "  <thead>\n",
       "    <tr style=\"text-align: right;\">\n",
       "      <th></th>\n",
       "      <th>services</th>\n",
       "      <th>connect</th>\n",
       "    </tr>\n",
       "  </thead>\n",
       "  <tbody>\n",
       "    <tr>\n",
       "      <th>click</th>\n",
       "      <td>45.00</td>\n",
       "      <td>53.00</td>\n",
       "    </tr>\n",
       "    <tr>\n",
       "      <th>no_click</th>\n",
       "      <td>2019.00</td>\n",
       "      <td>2689.00</td>\n",
       "    </tr>\n",
       "  </tbody>\n",
       "</table>\n",
       "</div>"
      ],
      "text/plain": [
       "          services  connect\n",
       "click        45.00    53.00\n",
       "no_click   2019.00  2689.00"
      ]
     },
     "execution_count": 72,
     "metadata": {},
     "output_type": "execute_result"
    }
   ],
   "source": [
    "m_2"
   ]
  },
  {
   "cell_type": "code",
   "execution_count": 74,
   "metadata": {},
   "outputs": [],
   "source": [
    "chisq, pvalue, df, expected = chi2_contingency(m_2)"
   ]
  },
  {
   "cell_type": "code",
   "execution_count": 75,
   "metadata": {},
   "outputs": [
    {
     "data": {
      "text/html": [
       "<div>\n",
       "<style scoped>\n",
       "    .dataframe tbody tr th:only-of-type {\n",
       "        vertical-align: middle;\n",
       "    }\n",
       "\n",
       "    .dataframe tbody tr th {\n",
       "        vertical-align: top;\n",
       "    }\n",
       "\n",
       "    .dataframe thead th {\n",
       "        text-align: right;\n",
       "    }\n",
       "</style>\n",
       "<table border=\"1\" class=\"dataframe\">\n",
       "  <thead>\n",
       "    <tr style=\"text-align: right;\">\n",
       "      <th></th>\n",
       "      <th>0</th>\n",
       "      <th>1</th>\n",
       "    </tr>\n",
       "  </thead>\n",
       "  <tbody>\n",
       "    <tr>\n",
       "      <th>0</th>\n",
       "      <td>42.09</td>\n",
       "      <td>55.91</td>\n",
       "    </tr>\n",
       "    <tr>\n",
       "      <th>1</th>\n",
       "      <td>2021.91</td>\n",
       "      <td>2686.09</td>\n",
       "    </tr>\n",
       "  </tbody>\n",
       "</table>\n",
       "</div>"
      ],
      "text/plain": [
       "        0       1\n",
       "0   42.09   55.91\n",
       "1 2021.91 2686.09"
      ]
     },
     "execution_count": 75,
     "metadata": {},
     "output_type": "execute_result"
    }
   ],
   "source": [
    "pd.DataFrame(expected)"
   ]
  },
  {
   "attachments": {},
   "cell_type": "markdown",
   "metadata": {},
   "source": [
    "## when comparing the two options \"services\" gets more clicks than expected while \"connect\" falls short of the expected value - but is that finding statisticlly significant?\n",
    "- Chi squared test is run under the H0-assumption \"services = connect\""
   ]
  },
  {
   "cell_type": "code",
   "execution_count": 76,
   "metadata": {},
   "outputs": [
    {
     "data": {
      "text/plain": [
       "1"
      ]
     },
     "execution_count": 76,
     "metadata": {},
     "output_type": "execute_result"
    }
   ],
   "source": [
    "df"
   ]
  },
  {
   "cell_type": "code",
   "execution_count": 77,
   "metadata": {},
   "outputs": [
    {
     "data": {
      "text/plain": [
       "0.24744894078894586"
      ]
     },
     "execution_count": 77,
     "metadata": {},
     "output_type": "execute_result"
    }
   ],
   "source": [
    "chisq"
   ]
  },
  {
   "cell_type": "code",
   "execution_count": 78,
   "metadata": {},
   "outputs": [
    {
     "data": {
      "text/plain": [
       "0.6188771123975272"
      ]
     },
     "execution_count": 78,
     "metadata": {},
     "output_type": "execute_result"
    }
   ],
   "source": [
    "pvalue"
   ]
  },
  {
   "attachments": {},
   "cell_type": "markdown",
   "metadata": {},
   "source": [
    "# chisq is NOT bigger than the crit_value (0.1, dof=1: 2.706) while the pvalue is bigger than alpha. H0 cannot be rejected in this case - so the difference between services and connect can result from chance. Since both perform way better than the other options the additional data given outside the dataset will be used to assess the performance of the two. The \"no_click\" is not important at the following stage since the user-behavior after conversion is relevant. Important to remember that the additional metrics take into account the drop-off-rates and the homepage-return-rates in order to assess the question whether the user's expectations were met."
   ]
  },
  {
   "cell_type": "code",
   "execution_count": 80,
   "metadata": {},
   "outputs": [],
   "source": [
    "m_f = m_2.copy()\n",
    "m_f.drop(\"no_click\", axis=0, inplace=True)"
   ]
  },
  {
   "cell_type": "code",
   "execution_count": 81,
   "metadata": {},
   "outputs": [
    {
     "data": {
      "text/html": [
       "<div>\n",
       "<style scoped>\n",
       "    .dataframe tbody tr th:only-of-type {\n",
       "        vertical-align: middle;\n",
       "    }\n",
       "\n",
       "    .dataframe tbody tr th {\n",
       "        vertical-align: top;\n",
       "    }\n",
       "\n",
       "    .dataframe thead th {\n",
       "        text-align: right;\n",
       "    }\n",
       "</style>\n",
       "<table border=\"1\" class=\"dataframe\">\n",
       "  <thead>\n",
       "    <tr style=\"text-align: right;\">\n",
       "      <th></th>\n",
       "      <th>services</th>\n",
       "      <th>connect</th>\n",
       "    </tr>\n",
       "  </thead>\n",
       "  <tbody>\n",
       "    <tr>\n",
       "      <th>click</th>\n",
       "      <td>45.00</td>\n",
       "      <td>53.00</td>\n",
       "    </tr>\n",
       "  </tbody>\n",
       "</table>\n",
       "</div>"
      ],
      "text/plain": [
       "       services  connect\n",
       "click     45.00    53.00"
      ]
     },
     "execution_count": 81,
     "metadata": {},
     "output_type": "execute_result"
    }
   ],
   "source": [
    "m_f"
   ]
  },
  {
   "cell_type": "code",
   "execution_count": 84,
   "metadata": {},
   "outputs": [],
   "source": [
    "m_f.loc[\"drop_off\"] = [0, 6]\n",
    "m_f.loc[\"hp_return\"] = [0, 8]"
   ]
  },
  {
   "cell_type": "code",
   "execution_count": 85,
   "metadata": {},
   "outputs": [
    {
     "data": {
      "text/html": [
       "<div>\n",
       "<style scoped>\n",
       "    .dataframe tbody tr th:only-of-type {\n",
       "        vertical-align: middle;\n",
       "    }\n",
       "\n",
       "    .dataframe tbody tr th {\n",
       "        vertical-align: top;\n",
       "    }\n",
       "\n",
       "    .dataframe thead th {\n",
       "        text-align: right;\n",
       "    }\n",
       "</style>\n",
       "<table border=\"1\" class=\"dataframe\">\n",
       "  <thead>\n",
       "    <tr style=\"text-align: right;\">\n",
       "      <th></th>\n",
       "      <th>services</th>\n",
       "      <th>connect</th>\n",
       "    </tr>\n",
       "  </thead>\n",
       "  <tbody>\n",
       "    <tr>\n",
       "      <th>click</th>\n",
       "      <td>45.00</td>\n",
       "      <td>53.00</td>\n",
       "    </tr>\n",
       "    <tr>\n",
       "      <th>drop_off</th>\n",
       "      <td>0.00</td>\n",
       "      <td>6.00</td>\n",
       "    </tr>\n",
       "    <tr>\n",
       "      <th>hp_return</th>\n",
       "      <td>0.00</td>\n",
       "      <td>8.00</td>\n",
       "    </tr>\n",
       "  </tbody>\n",
       "</table>\n",
       "</div>"
      ],
      "text/plain": [
       "           services  connect\n",
       "click         45.00    53.00\n",
       "drop_off       0.00     6.00\n",
       "hp_return      0.00     8.00"
      ]
     },
     "execution_count": 85,
     "metadata": {},
     "output_type": "execute_result"
    }
   ],
   "source": [
    "m_f"
   ]
  },
  {
   "cell_type": "code",
   "execution_count": 86,
   "metadata": {},
   "outputs": [
    {
     "data": {
      "text/plain": [
       "26.41509433962264"
      ]
     },
     "execution_count": 86,
     "metadata": {},
     "output_type": "execute_result"
    }
   ],
   "source": [
    "14/53*100"
   ]
  },
  {
   "attachments": {},
   "cell_type": "markdown",
   "metadata": {},
   "source": [
    "# \"services\" performs way better than \"connect\" - a combined 0% drop-off/homepage-return rate compared to 26.4%."
   ]
  },
  {
   "attachments": {},
   "cell_type": "markdown",
   "metadata": {},
   "source": [
    "# FINAL CONCLUSION: \"SERVICES\" shows the best CTR of all options (although when compared to \"CONNECT\" not statistically significant) and has a ZERO PERCENT drop-off/homepage-return-rate. Therefore it is strongly advised to change the library's homepage and roll out the design with the \"SERVICES\"-button."
   ]
  }
 ],
 "metadata": {
  "kernelspec": {
   "display_name": "base",
   "language": "python",
   "name": "python3"
  },
  "language_info": {
   "codemirror_mode": {
    "name": "ipython",
    "version": 3
   },
   "file_extension": ".py",
   "mimetype": "text/x-python",
   "name": "python",
   "nbconvert_exporter": "python",
   "pygments_lexer": "ipython3",
   "version": "3.9.13"
  },
  "orig_nbformat": 4,
  "vscode": {
   "interpreter": {
    "hash": "4d9defa72c2715dab9f7f172572cd30a1ab1a2083462d32ef96aadb7c6e0c73b"
   }
  }
 },
 "nbformat": 4,
 "nbformat_minor": 2
}
